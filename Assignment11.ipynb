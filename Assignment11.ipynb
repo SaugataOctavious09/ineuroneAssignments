{
  "nbformat": 4,
  "nbformat_minor": 0,
  "metadata": {
    "colab": {
      "provenance": []
    },
    "kernelspec": {
      "name": "python3",
      "display_name": "Python 3"
    },
    "language_info": {
      "name": "python"
    }
  },
  "cells": [
    {
      "cell_type": "markdown",
      "source": [
        "#Assignment 11"
      ],
      "metadata": {
        "id": "EKDtEhGrNYw7"
      }
    },
    {
      "cell_type": "markdown",
      "source": [
        "**Q1 What is the role of the 'else' block in a try-except statement? Provide an example scenario where it would be useful.**\n",
        "\n",
        "The` else` part of the code is executed if no **exceptions** are raised in the `try` block. It's entirely optional and can be omitted if not needed."
      ],
      "metadata": {
        "id": "p98QJ0IINYz7"
      }
    },
    {
      "cell_type": "markdown",
      "source": [
        "**Q2 Can a try-except block be nested inside another try-except block? Explain with an example.**\n",
        "\n",
        "Yes, a `try` `except` block can be nested inside another `try` `except` block. The below chunk of code describes the code."
      ],
      "metadata": {
        "id": "7f3sPK5uNY3x"
      }
    },
    {
      "cell_type": "code",
      "source": [
        "try:\n",
        "    # outer try block that attempts to perform a division operation (num1 / num2).\n",
        "    num1 = int(input(\"Enter a dividend: \"))\n",
        "    num2 = int(input(\"Enter a divisor: \"))\n",
        "\n",
        "    try:\n",
        "        # The inner try block handles the division operation and checks for a ZeroDivisionError (division by zero) and a ValueError (invalid input) exception.\n",
        "        result = num1 / num2\n",
        "        print(\"Result:\", result)\n",
        "    except ZeroDivisionError:\n",
        "        print(\"Inner: Division by zero is not allowed.\")\n",
        "    except ValueError:\n",
        "        print(\"Inner: Invalid input. Please enter valid numbers.\")\n",
        "\n",
        "except ValueError:\n",
        "    print(\"Outer: Invalid input. Please enter valid numbers.\")\n",
        "except Exception as e:\n",
        "    print(\"Outer: An error occurred:\", e)\n"
      ],
      "metadata": {
        "id": "hfSH_N2TPJ3s"
      },
      "execution_count": null,
      "outputs": []
    },
    {
      "cell_type": "markdown",
      "source": [
        "**Q3 How can you create a custom exception class in Python? Provide an example that demonstrates its usage.**\n",
        "\n",
        "\n",
        "In Python, we can create **custom exception** classes by defining a new class that inherits from the built-in Exception class or one of its subclasses.\n",
        "The below code defines the same."
      ],
      "metadata": {
        "id": "wQBntP4JNY6i"
      }
    },
    {
      "cell_type": "code",
      "source": [
        "# Define a custom exception class\n",
        "class CustomError(Exception):\n",
        "    def __init__(self, message=\"A custom error occurred\"):\n",
        "        self.message = message\n",
        "        super().__init__(self.message)\n",
        "\n",
        "# Function that raises the custom exception\n",
        "def custom_function(value):\n",
        "    if value < 0:\n",
        "        raise CustomError(\"Value cannot be negative\")\n",
        "\n",
        "try:\n",
        "    user_input = int(input(\"Enter a number: \"))\n",
        "    custom_function(user_input)\n",
        "except CustomError as ce:\n",
        "    print(f\"Custom Error: {ce}\")\n",
        "except ValueError:\n",
        "    print(\"Invalid input. Please enter a valid integer.\")\n",
        "except Exception as e:\n",
        "    print(f\"An unexpected error occurred: {e}\")\n"
      ],
      "metadata": {
        "id": "zaVt57AnHmSE"
      },
      "execution_count": null,
      "outputs": []
    },
    {
      "cell_type": "markdown",
      "source": [
        "**Q4 What are some common exceptions that are built-in to Python?**\n",
        "\n",
        " The most common built-in exceptions are:<br>\n",
        " * SyntaxError: Raised when there is a syntax error in your code.\n",
        " * IndentationError: Raised when there is an issue with the indentation of your code.\n",
        " * NameError: Raised when a local or global name is not found.\n",
        " * TypeError: Raised when an operation or function is applied to an object of an inappropriate type.\n",
        " * ValueError: Raised when an operation or function receives an argument of the correct type but with an invalid value.\n",
        " * ZeroDivisionError: Raised when an attempt is made to divide by zero."
      ],
      "metadata": {
        "id": "PSR1VH6KNY9W"
      }
    },
    {
      "cell_type": "markdown",
      "source": [
        "**Q5 What is logging in Python, and why is it important in software development?**\n",
        "\n",
        "`Logging` in Python refers to the process of recording messages, events, and diagnostic information generated by a software application during its execution. The Python standard library provides a comprehensive logging module (`logging`) it also allows developers to incorporate robust logging capabilities into their applications.<br>\n",
        "The main importance of `logging` are:<br>\n",
        "* **Debugging and Troubleshooting:** Logging helps developers identify and diagnose issues and errors in their code.\n",
        "* **Monitoring and Maintenance:** In a production environment, logging provides insights into the behavior of the application.\n",
        "* **Auditing and Compliance:** Logging supports auditing and compliance requirements by recording actions taken within an application."
      ],
      "metadata": {
        "id": "JSvGVjeTKBKE"
      }
    },
    {
      "cell_type": "markdown",
      "source": [
        "**Q6 Explain the purpose of log levels in Python logging and provide examples of when each log level would be appropriate.**\n",
        "\n",
        "\n",
        "Log levels in Python logging provide a way to categorize and prioritize log messages based on their importance and severity. It help developers and operators manage and understand the log output of an application. Python's logging module defines several standard log levels, each serving a specific purpose:\n",
        "\n",
        "\n",
        "\n",
        "1.   **DEBUG:** Used for detailed debugging information.\n",
        "2.   **INFO:** Used to confirm that things are working as expected\n",
        "3.   **WARNING:** Used to indicate potential issues or situations that require attention but do not prevent the application from running.\n",
        "4.  **ERROR:** Used to indicate errors that prevent the application from functioning correctly or as expected.\n",
        "5.  **CRITICAL:**  Used to indicate severe errors that may lead to the application crashing or becoming unusable.\n",
        "\n"
      ],
      "metadata": {
        "id": "BHKUrLH2NZAj"
      }
    },
    {
      "cell_type": "markdown",
      "source": [
        "**Q7 What are log formatters in Python logging, and how can you customise the log message format using formatters?**\n",
        "\n",
        " `log formatters` are objects that define the layout and structure of log messages. They allow us to customize how log messages are presented in the log output. <br>\n",
        " The process to use the log formatters are:<br>\n",
        " 1. **Create a Formatter Instance:** We create an instance of the logging.Formatter class, specifying the desired format string.\n",
        " 2. **Attach the Formatter to a Logger Handler:** In this step we associate the formatter with a specific handler. Handlers determine where log messages are sent, such as to the console or a log file.\n",
        " 3. **Configure the Logger to Use the Handler:** We configure the logger to use the handler by adding the handler to the logger. Loggers can have multiple handlers, each potentially using a different formatter."
      ],
      "metadata": {
        "id": "zjdUNSsoNZEJ"
      }
    },
    {
      "cell_type": "markdown",
      "source": [
        "**Q8 How can you set up logging to capture log messages from multiple modules or\n",
        "classes in a Python application?**\n",
        "\n",
        "The steps to set up logging to capture log messages from multiple modules or classes in a Python application are:<br>\n",
        "1. **Create a Custom Logger**:\n",
        "   Create a custom logger for the application being used `logging.getLogger()`. We should typically do this in the main module of our application or a central configuration module.\n",
        "\n",
        "2. **Configure the Logger's Level**:\n",
        "   Setting the logging level for the custom logger using `logger.setLevel()`. The level determines which log messages are captured.\n",
        "\n",
        "3. **Create a Shared Formatter** (Optional):\n",
        "   We can create a shared formatter instance that defines the log message format for all loggers in your application.\n",
        "\n",
        "4. **Create Handlers**:\n",
        "   For each output destination (e.g., console, file, network), create one or more handlers.\n",
        "\n",
        "5. **Attach Handlers to the Logger**:\n",
        "  Attach the handlers you created to the custom logger using `logger.addHandler()`.\n",
        "\n",
        "6. **Use the Custom Logger in Modules/Classes**:\n",
        "   In each module or class that needs to log messages, import the custom logger from the central configuration module.\n",
        "   "
      ],
      "metadata": {
        "id": "LB4KdTxINZG3"
      }
    },
    {
      "cell_type": "markdown",
      "source": [
        "**Q9 What is the difference between the logging and print statements in Python? When should you use logging over print statements in a real-world application?**\n",
        "\n",
        "|Logging in Python|Print in Python|\n",
        "|:---|:----|\n",
        "|Record events and errors that occur during the execution of Python programs.|Displays the information to the console for the debugging purposes.|\n",
        "|Mainly used in the production environment.|Mainly for debugging.|\n",
        "|Some features are: Log levels, filtering, formatting, and more.|There is no as such special features|\n",
        "|It provides different log levels such as Debug, Info, Error, Warning, and Critical.|It does not have any levels, it simply prints whatever is passed to it.|\n",
        "\n",
        "We use `print` statements in real-world applications for the following reasons:<br>\n",
        "\n",
        "* **Production-Ready Code:** In production code, logging is the preferred method for generating output because it allows us to capture and manage log messages systematically.\n",
        "* **Debugging and Diagnostics:** Logging is essential for debugging complex applications and diagnosing issues in real-world scenarios.\n",
        "* **Monitoring and Analysis:** Log messages are collected and monitored centrally, making it easier to detect and respond to errors and anomalies.\n",
        "It provide historical data for analysis and performance monitoring.\n",
        "* **Configurability:** Logging allows us to configure log levels and destinations dynamically without code changes, making it adaptable to different deployment environments."
      ],
      "metadata": {
        "id": "JPF5SVsyNZKJ"
      }
    },
    {
      "cell_type": "markdown",
      "source": [
        "**Q10 Write a Python program that logs a message to a file named \"app.log\" with the following requirements:<pre>\n",
        "● The log message should be \"Hello, World!\"\n",
        "● The log level should be set to \"INFO.\"\n",
        "● The log file should append new log entries without overwriting previous ones.</pre>\n",
        "\n",
        "The below code defines the same"
      ],
      "metadata": {
        "id": "M8ceEBRoNZNz"
      }
    },
    {
      "cell_type": "code",
      "source": [
        "import logging\n",
        "\n",
        "# Configure the logging\n",
        "logging.basicConfig(filename='app.log', level=logging.INFO, filemode='a', format='%(asctime)s - %(levelname)s - %(message)s')\n",
        "\n",
        "# Log the message\n",
        "logging.info('Hello, World!')\n"
      ],
      "metadata": {
        "id": "y2AoqLRUS6L_"
      },
      "execution_count": 1,
      "outputs": []
    },
    {
      "cell_type": "markdown",
      "source": [
        "**Q11 Create a Python program that logs an error message to the console and a file named \"errors.log\" if an exception occurs during the program's execution. The error message should include the exception type and a timestamp.**"
      ],
      "metadata": {
        "id": "XH1QGdZ3NZQr"
      }
    },
    {
      "cell_type": "code",
      "source": [
        "import logging\n",
        "import sys\n",
        "import traceback\n",
        "from datetime import datetime\n",
        "\n",
        "'''\n",
        "Configuring the logging using logging.basicConfig.\n",
        "We set the log level to ERROR, which means it will log messages with an ERROR level or higher.\n",
        "Specifing the format of log messages, including the timestamp, log level, and message.\n",
        "We also define two handlers: one for writing log messages to the \"errors.log\" file and another for printing log messages to the console.\n",
        "'''\n",
        "logging.basicConfig(level=logging.ERROR, format='%(asctime)s - %(levelname)s - %(message)s', handlers=[\n",
        "    logging.FileHandler('errors.log', mode='a'),\n",
        "    logging.StreamHandler(sys.stdout)\n",
        "])\n",
        "\n",
        "try:\n",
        "    result = 27 / 0  # Intentionally raise a ZeroDivisionError\n",
        "except Exception as e:\n",
        "    # Log the exception with a timestamp\n",
        "    error_message = f\"{datetime.now()} - {type(e).__name__}: {str(e)}\\n{traceback.format_exc()}\"\n",
        "    logging.error(error_message)\n"
      ],
      "metadata": {
        "id": "Qp4fEwG1TYcH"
      },
      "execution_count": null,
      "outputs": []
    }
  ]
}