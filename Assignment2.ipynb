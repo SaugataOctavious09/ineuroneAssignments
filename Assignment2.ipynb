{
 "cells": [
  {
   "cell_type": "markdown",
   "id": "5e1a52c7-983d-4881-9e09-2d37ac3a2dfe",
   "metadata": {},
   "source": [
    "<strong>Q1.What are the two values of the Boolean data type? How do you write them?</strong>\n",
    "\n",
    "The two types of Boolean data are `True` numeric encoded as `1` and `False` numeric encoded as `0`. These are generally the return values after any logical tests. <br>\n",
    "These are written as `True` and `False`.<br>\n",
    "**Note:-** Python is case sensetive hence the `propercase` of writting is important."
   ]
  },
  {
   "cell_type": "markdown",
   "id": "79c0318e-ef74-4275-86be-0a8653aea71e",
   "metadata": {},
   "source": [
    "<strong>Q2. \n",
    "What are the three different types of Boolean operators? </strong>\n",
    "\n",
    "**1) AND Operator:-**<br> \n",
    "`AND` operator returns `True` if both of its operands are **true**, otherwise `False`, i.e. `AND` operator returns `False` when any one of the operand is **False**. <br>\n",
    "**1) OR  Operator:-** <br>\n",
    "`OR` operator returns `True` if one of its operands are **true**, otherwise `False`, i.e. `OR` operator returns `False` when both of the operand is **False**. <br>\n",
    "**1) NOT Operator:-**<br>\n",
    "`NOT` operator negates the values of the operator in use. i.e it returns `True` if the results are **false**, otherwise `True`"
   ]
  },
  {
   "cell_type": "markdown",
   "id": "22279dec-ee5c-4605-af82-b26919ee9324",
   "metadata": {},
   "source": [
    "<strong>Q3. Make a list of each Boolean operator's truth tables (i.e. every possible combination of Boolean values for the operator and what it evaluate ).</strong>\n",
    "\n",
    "\n",
    "Certainly! Here are the truth tables for each Boolean operator:\n",
    "\n",
    "1. **AND Operator**:\n",
    "\n",
    "| Operand 1 | Operand 2 | Result |\n",
    "|:--------- |:--------- |:------ |\n",
    "| true      | true      | true   |\n",
    "| true      | false     | false  |\n",
    "| false     | true      | false  |\n",
    "| false     | false     | false  |\n",
    "\n",
    "2. **OR Operator**:\n",
    "\n",
    "| Operand 1 | Operand 2 | Result |\n",
    "|:--------- |:--------- |:------ |\n",
    "| true      | true      | true   |\n",
    "| true      | false     | true   |\n",
    "| false     | true      | true   |\n",
    "| false     | false     | false  |\n",
    "\n",
    "3. **NOT Operator**:\n",
    "\n",
    "| Operand | Result |\n",
    "|:------- |:------ |\n",
    "| true    | false  |\n",
    "| false   | true   |\n",
    "\n",
    "These truth tables illustrate how each Boolean operator behaves based on the combinations of boolean values (true or false) for its operands."
   ]
  },
  {
   "cell_type": "markdown",
   "id": "31f1cb0f-5ff0-4ddf-b465-3d64aa4bea42",
   "metadata": {},
   "source": [
    "<strong>Q4.\n",
    "What are the values of the following expressions?<br>\n",
    "1: (5 > 4) and (3 == 5)<br>\n",
    "2: not (5 > 4)<br>\n",
    "3: (5 > 4) or (3 == 5)<br>\n",
    "4: not ((5 > 4) or (3 == 5))<br>\n",
    "5: (True and True) and (True == False)<br>\n",
    "6: (not False) or (not True)<br>\n",
    "</strong>\n",
    "\n",
    "**1:** <br>The value of `(5 > 4) and (3 == 5)` is `False` as the first expression `(5>4)` is `True`, but the second expression `(3 == 5)` is `False`. Hence, when we use the `AND` operator in between them, we get the result as `False`. The same can be verified from the above truth table. <br>\n",
    "**2:** <br> The value of `not (5 > 4)` is `False` as the first expression `(5>4)` is `True` and it returns `True` thus again using the `not` operand we get the negation of **true** as `False`.<br>\n",
    "**3:** <br> The value of `(5 > 4) or (3 == 5)` is `True` as the first expression `(5>4)` is **true** and the value of the second operation\n",
    "`(3 == 5)` is **false**, thus using and `or` operation in between them we get the result as `True`. The same can be verified from the above truth table.<br>\n",
    "**4:** <br> The value of `not((5 > 4) or (3 == 5))` is `False`. From the **3rd** expression we see that the return value is `True` and using a `not` operation on it we get the return value as `False`.<br>\n",
    "**5:**<br> The value of `(True and True) and (True == False)` is `False`. For the first expression we get `True` **Note:-** Check truth table.\n",
    "For the second expression we get `False` as `True` is not equal to `False`, so we get the result as `False`. Now, using the `AND` operator in between we get `False` as the final result. The same can be verified from the truth table above. <br>\n",
    "**6:**<br> The value of the expression `(not False) or (not True)` returns `True` as the first expression returns **true** and the second operator results **false**. Thus, using the or operator in between we get the result as `True`. The same can be verified from the truth table above.\n"
   ]
  },
  {
   "cell_type": "markdown",
   "id": "bdd94b79-78fd-4256-8100-d988bc60a397",
   "metadata": {},
   "source": [
    "<strong>Q5.\n",
    "What are the six comparison operators?</strong>\n",
    "\n",
    "Comparison operators are used for comparing two values.It makes decisions, <br>\n",
    "**Equal To (==):** <br>\n",
    "Returns `True` if the values on both sides are equal, `False` otherwise.<br>\n",
    "**Not Equal To (!=):**<br>\n",
    "Returns `True` if the values on both sides are not equa,  `False` otherwise.<br>\n",
    "**Greater Than (>):** <br>\n",
    "Returns `True` if the value on the left side is greater than the value on the right side,  `False` otherwise.<br>\n",
    "<strong> Less Than (<): </storng> <br>\n",
    "Returns `True` if the value on the left side is less than the value on the right side,  `False` otherwise.<br>\n",
    "<strong>Greater Than or Equal To (>=):</strong> <br>\n",
    "Returns `True` if the value on the left side is greater than or equal to the value on the right side,  `False` otherwise.<br>\n",
    "*** Less Than or Equal To (<=): *** <br>\n",
    "Returns true if the value on the left side is less than or equal to the value on the right side, `False` otherwise.<br>\n"
   ]
  },
  {
   "cell_type": "markdown",
   "id": "0d4c34d9-e077-4f91-b757-34f683bcb7f3",
   "metadata": {},
   "source": [
    "**Q6. How do you tell the difference between the equal to and assignment operators?Describe a condition and when you would use one.**\n",
    "\n",
    "The basic difference between `equal to \"==\"` and `equal \"=\"` that the `equal to \"==\"` is a **logical operator**, whereas `equals \"=\"` is an **assignment operato**. The former i.e `\"==\"` is used to test a logical test where the value of some variable is checked. In case of \"=\" **assignment operator** we are assign the value to a variable.<br>\n",
    "Condition for `equal to \"==\"` operator is: `x==4`: this checks if the value of the variable `x` is equal to `4` or not.<br>\n",
    "Condition for `equals \"=\"` operator is: `x=4`: this is to assign the value of `4` to the variable `x`."
   ]
  },
  {
   "cell_type": "markdown",
   "id": "868ce625-6174-4dc4-be6e-44a7398f674c",
   "metadata": {},
   "source": [
    "Q**7. Identify the three blocks in this code:\n",
    "spam = 0<br>\n",
    "if spam == 10:<br>\n",
    "print('eggs')<br>\n",
    "if spam > 5:<br>\n",
    "print('bacon')<br>\n",
    "else:<br>\n",
    "print('ham')<br>\n",
    "print('spam')<br>\n",
    "print('spam')**\n",
    "\n",
    "\n",
    "The three bocks in this code are the two if blocks and one else block. <br>\n",
    "Writing the blocks exclusively.<br>\n",
    "<pre>\n",
    "<strong>Block1</strong><br>\n",
    "if spam == 10: <br>\n",
    "    print('eggs')<br>\n",
    "<strong>Block2</strong><br>\n",
    "if spam >5: <br>\n",
    "    print('bacon')<br>\n",
    "<strong>Block3</strong>\n",
    "else:<br>\n",
    "    print('ham')<br>\n",
    "    print('spam')<br>\n",
    "    print('spam') <br>\n",
    "</pre>\n",
    "Thus above are the three blocks of the code"
   ]
  },
  {
   "cell_type": "markdown",
   "id": "bb08d635-71ca-4ea2-a247-51d3ba2e221c",
   "metadata": {},
   "source": [
    "**Q8. Write code that prints Hello if 1 is stored in spam, prints Howdy if 2 is stored in spam, and prints Greetings! if anything else is stored in spam.**"
   ]
  },
  {
   "cell_type": "code",
   "execution_count": 3,
   "id": "fd6edca0-c1ee-40c1-a227-5c6ea96eb132",
   "metadata": {},
   "outputs": [
    {
     "name": "stdin",
     "output_type": "stream",
     "text": [
      "Enter value for Spam:- 27\n"
     ]
    },
    {
     "name": "stdout",
     "output_type": "stream",
     "text": [
      "Greetings!\n"
     ]
    }
   ],
   "source": [
    "spam = int(input(\"Enter value for Spam:-\")) # Taking input for the variable \"Spam\"\n",
    "if spam == 1: # checking if the value stored in \"spam\" is equal to 1\n",
    "    print(\"Hello\") # Printing \"Helllo\" if the logic is true\n",
    "elif spam == 2:# checking if the value stored in \"spam\" is equal to 2\n",
    "    print(\"Howdy\")# Printing \"Howdy\" if the logic is true\n",
    "else:# checking if the value stored in \"spam\" is anything other than \"1\" or \"2\"\n",
    "    print(\"Greetings!\") # Printing \"Helllo\" if the logic is true"
   ]
  },
  {
   "cell_type": "markdown",
   "id": "d82e1403-10bd-4411-9f01-689fa5e6e2a4",
   "metadata": {},
   "source": [
    "**Q9.If your programme is stuck in an endless loop, what keys you’ll press?**\n",
    "\n",
    "The buttons `CTRL + C` are pressed(together) when a programme gets stuck in an infinite loop. This can also be used when we want to stop the loop before its completion, or want to stop an connection/ operation forcefully. Other way to do the same is `Restart` the kernel or `Kill` the kernel and connect to a new kernel"
   ]
  },
  {
   "cell_type": "markdown",
   "id": "6d6e6a7f-dfe6-46b8-afb1-d0b46deffd5a",
   "metadata": {},
   "source": [
    "**Q10. How can you tell the difference between break and continue?**\n",
    "\n",
    "`break` and `continue` are two keywords in python and are used to control the flow of loops and the programme itself.<br>\n",
    "The basic difference between both are:<br>\n",
    "`break` forcefully terminates the complete loop and we get the output till the point before the loop terminates. It is used to terminate the loop after a certain condition is meet.<br> whereas,\n",
    "`continue` skips the execution of the current iteration in the loop whenever the conditions are meet. It is used to skip certain iterations without terminating the whole loop."
   ]
  },
  {
   "cell_type": "markdown",
   "id": "b7b50184-cb94-4e53-9bdd-ea5cb62aeff4",
   "metadata": {},
   "source": [
    "**Q11. In a for loop, what is the difference between range(10), range(0, 10), and range(0, 10, 1)?**\n",
    "\n",
    "\n",
    "There is practically no difference in between the three expressions, all of them  will generate the series of numbers from `0-9`.\n",
    "These are just writing preferences along with the complete syntax.<br>\n",
    "`range(value)`: This returns the `sequence` of numbers from `0-(value-)`, with an interval of 1 integer.<br>\n",
    "`range(start_value,stop_value)`: This returns the `sequence` of numbers from `(start_value)-(stop_value-)`, with an interval of 1 integer.<br>\n",
    "`range(start_value,stop_value,Step)`: This returns the `sequence` of numbers from `(start_value)-(stop_value-)`, with an interval of `step` mentioned."
   ]
  },
  {
   "cell_type": "markdown",
   "id": "e9b278fd-18e1-4638-93a4-c6d9453a2a62",
   "metadata": {},
   "source": [
    "**Q12. Write a short program that prints the numbers 1 to 10 using a for loop. Then write an equivalent program that prints the numbers 1 to 10 using a while loop.**"
   ]
  },
  {
   "cell_type": "code",
   "execution_count": 4,
   "id": "2e8dca54-0710-4bf7-8cb5-8483f9b96304",
   "metadata": {},
   "outputs": [
    {
     "name": "stdout",
     "output_type": "stream",
     "text": [
      "1\n",
      "2\n",
      "3\n",
      "4\n",
      "5\n",
      "6\n",
      "7\n",
      "8\n",
      "9\n",
      "10\n"
     ]
    }
   ],
   "source": [
    "# For loop\n",
    "for i in range(1,11,1):\n",
    "    print(i)"
   ]
  },
  {
   "cell_type": "code",
   "execution_count": 6,
   "id": "3022010a-9a94-4655-8806-6712f952c35f",
   "metadata": {},
   "outputs": [
    {
     "name": "stdout",
     "output_type": "stream",
     "text": [
      "1\n",
      "2\n",
      "3\n",
      "4\n",
      "5\n",
      "6\n",
      "7\n",
      "8\n",
      "9\n",
      "10\n"
     ]
    }
   ],
   "source": [
    "# While loop\n",
    "num = 1\n",
    "while num<11:\n",
    "    print(num)\n",
    "    num += 1"
   ]
  },
  {
   "cell_type": "markdown",
   "id": "71a7b749-314a-4a6d-b8bf-fbe3d205a958",
   "metadata": {},
   "source": [
    "**Q13. If you had a function named bacon() inside a module named spam, how would you call it after importing spam?**\n",
    "\n",
    "**Process 1**<br>\n",
    "`from spam import bacon`:   <br> bacon() <br>This syntax is used to call  the function directly from the module.\n",
    "`import spam as sp`:  <br> sp.bacon()  <br> This syntax is used to call the module first and then seperately call the function."
   ]
  },
  {
   "cell_type": "code",
   "execution_count": null,
   "id": "e7abceed-8b74-435b-9adc-6d6b77c87c3d",
   "metadata": {},
   "outputs": [],
   "source": []
  }
 ],
 "metadata": {
  "kernelspec": {
   "display_name": "Python 3 (ipykernel)",
   "language": "python",
   "name": "python3"
  },
  "language_info": {
   "codemirror_mode": {
    "name": "ipython",
    "version": 3
   },
   "file_extension": ".py",
   "mimetype": "text/x-python",
   "name": "python",
   "nbconvert_exporter": "python",
   "pygments_lexer": "ipython3",
   "version": "3.10.6"
  }
 },
 "nbformat": 4,
 "nbformat_minor": 5
}
