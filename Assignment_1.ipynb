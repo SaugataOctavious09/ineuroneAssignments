{
 "cells": [
  {
   "cell_type": "markdown",
   "id": "5a914992-5237-498c-a2a0-9d4d8ba7644f",
   "metadata": {},
   "source": [
    "## Assignment 1"
   ]
  },
  {
   "cell_type": "markdown",
   "id": "230a62cd-a4ac-498f-b063-d42a7d0d87bd",
   "metadata": {},
   "source": [
    "**Q1.\n",
    "In the below elements which of them are values or an expression? eg:- values can be integer or string and expressions will be mathematical operators.**\n",
    "\n",
    "`*` : The `*` sign is an **expression** which performs the multiplication operration in python.<br>\n",
    "'hello': This is a `string` i.e **values** in python <br>\n",
    "-87.8  : This is  a `numeric` i.e **values** which is `-87.8`. <br>\n",
    "`-`: The `-` sign is an **expression** which performs the substraction operation in python. <br>\n",
    "`/`: The `/` sign is an **expression** which performs the division operation in python.<br>\n",
    "`+`: The `+` sign is an **expression** which performs the addition operation in python. <br>\n",
    "6  : This is a `numeric` i.e **values** which is `6`. in the python.\n"
   ]
  },
  {
   "cell_type": "markdown",
   "id": "b4cf54ab-4c7c-49b9-9327-1941ee62e75a",
   "metadata": {},
   "source": [
    "**Q2.\n",
    "What is the difference between string and variable?**\n",
    "\n",
    "| String | Variable |\n",
    "|:---------|:---------|\n",
    "|String is a data type.  | Variable is where different<br> data types are stored with distinct `name`. |\n",
    "|Strings are a sequence of characters<br>which are always enclosed in quotes.|A variable can store all types of data types <br> and are used to store functions and others<br> `values` as well |\n",
    "|Any sequence of character or numeric<br> digits can be written.  | Variable names can't be the `keywords` of the <br> programming language. |\n",
    "|String is a data that has to be stored.|Variable is the location where the data is stored.|\n",
    "|Example: `\"Hello Worl!!\"`| `x`=\"Hello World!!\" : `=` is used to assign the data <br> to the variable. | "
   ]
  },
  {
   "cell_type": "markdown",
   "id": "0b64f5f4-c157-47d3-b88a-faccb7350afe",
   "metadata": {},
   "source": [
    "**Q3.\n",
    "Describe three different data types.**\n",
    "\n",
    "The three data types are namely:\n",
    "1. `Integer`: <br>\n",
    "* An **integer** data type represents numbers without `decimal` points, i.e whole numbers.<br>\n",
    "* It can be both positive and negative (including `zero`). <br>\n",
    "* Usually used for `counting` and representing `discrete quantities` (index values are always integers starting from `zero`) .<br>\n",
    "Examples: `27`, `0`, `-1`\n",
    "\n",
    "2. `Float`: <br>\n",
    "* A `floating-point` data type represents numbers with `decimal` points, i.e fractions.\n",
    "* It represents real numbers, including both integers, integers are represented as trailing zeors after the decimal point.\n",
    "* Non-integer value calculations are done using `float`.\n",
    "Examples: `-3.14`, `0.1`, `0.0`\n",
    "\n",
    "3. `Boolean`: <br>\n",
    "* A boolean data has only two values `True` and `False`.\n",
    "* It is used for condition statements.\n",
    "* Numeric value of `True` is **1** and `False` is **0**."
   ]
  },
  {
   "cell_type": "markdown",
   "id": "59530e31-6a85-4966-81ce-38888436441f",
   "metadata": {},
   "source": [
    "**Q4.\n",
    "What is an expression made up of? What do all expressions do?**\n",
    "\n",
    "An expression is a combination of several components, when combined produces a value.<br>\n",
    "Components of an expression are:<br>\n",
    "**1)** `Constants:` Fixed values are the value that donot change during the execution of the program.<br>\n",
    "**2)** `Variables:` Variables are places that stores values. They generally represent the different data types.<br>\n",
    "**3)** `Operators:` Operators are symbols that helps us to operate.<br>\n",
    "**4)** `Function Calls:` Function calls are used to call the pre-defined functions.\n",
    "\n",
    "`Expressions` are used for `Calculations`, `Assignments`, `Boolean Expression`, `function calls`."
   ]
  },
  {
   "cell_type": "markdown",
   "id": "2e4faa52-2900-46fb-a49c-af1d4fb49baf",
   "metadata": {},
   "source": [
    "**Q5\n",
    "This assignment statements, like spam = 10. What is the difference between an expression and a statement?**\n",
    "\n",
    "|Expression|Statement|\n",
    "|:---------|:--------|\n",
    "|An expression is a combination of several components,<br> when combined produces a value|A statement is a complete statement giving complete <br>instrunctions for an sequence of actions|\n",
    "|It can be used as a part of the statements.|The flow of the programme is controlled by statements.|\n",
    "|They generally produces a value|Doesnot produce a value always.|"
   ]
  },
  {
   "cell_type": "markdown",
   "id": "fd623b2b-0790-4fb5-b67a-a7f6597bc601",
   "metadata": {},
   "source": [
    "<strong> Q6. After running the following code, what does the variable bacon contain? <br>\n",
    "bacon = 22 <br>\n",
    "bacon + 1 </strong>\n",
    "\n",
    "\n",
    "At first the value `22` is assigned to the variable name `bacon`. Now, in the following step we **add** the value `1`.<br>\n",
    "Hence, The final value of bacon is `23`."
   ]
  },
  {
   "cell_type": "markdown",
   "id": "5c2237dd-baaa-456d-9d53-ffeb9f5c9d93",
   "metadata": {},
   "source": [
    "<strong>Q7 What should the values of the following two terms be?<br>\n",
    "'spam' + 'spamspam' <br>\n",
    "'spam' * 3\n",
    "</strong>\n",
    "\n",
    "The value of the **first** expression `'spam' + 'spamspam'` is <br>\n",
    "`'spamspamspam'` as in case of **addition** of a `string` variable with another string variable we just concatenate the characters to produce another string `variable` <br>\n",
    "The value of the **second** expression `'spam' *3` is <br>\n",
    "`'spamspamspam'` as in case of **multiplication** of a `string` variable with another string variable we just repeat the sequence of the `string` variable as many times it is multiplied."
   ]
  },
  {
   "cell_type": "markdown",
   "id": "849fcfae-4ca1-458c-a5e4-d8819dafca28",
   "metadata": {},
   "source": [
    "<strong>Q8.\n",
    "Why is eggs a valid variable name while 100 is invalid? </strong>\n",
    "\n",
    "`eggs` can be used as variable names as it follows all the naming convention which are: <br>\n",
    "**1)** Start with a Letter or Underscore. <br>\n",
    "**2)** Subsequent Characters.<br>\n",
    "**3)** Keywords can't be used.<br>\n",
    "So we can clearly see that `eggs` follow all the conditions whereas; `100` is not following the rule number one of the naming convention.Hence, we are unable to use `100` as a variable name"
   ]
  },
  {
   "cell_type": "markdown",
   "id": "1dfb892e-ba5d-417f-8fd1-11581fe9a81e",
   "metadata": {},
   "source": [
    "<strong> Q9\n",
    " What three functions can be used to get the integer, floating-point number, or string version of a value? </strong>\n",
    " \n",
    "The three functions are namely:<br> `int()`: To get the integer value of a variable.<br> **Note**:- In case of floating values we get the nearest whole number of the value presented inside the function.<br>\n",
    "`float()`: To get the floating-point of a value. <br>**Note**:- In case of integer values we get a trailing zero as the integer is converted to a decimal value.<br>\n",
    "`str()`: To get the string values of a value. "
   ]
  },
  {
   "cell_type": "markdown",
   "id": "375a5ea0-3be8-41dc-b564-71f556ebd433",
   "metadata": {},
   "source": [
    "<strong>Q10. Why does this expression cause an error? How can you fix it? <br>\n",
    "'I have eaten ' + 99 + ' burritos.' </strong>\n",
    "\n",
    "The above expression will cause an error as we cannot `concatenate` an integer value in between two `string` values.\n",
    "We can fix the issue by writing 99 inside quotes, i.e `'99'`. So the expression would be `'I have eaten ' + '99' + ' burritos.'`"
   ]
  }
 ],
 "metadata": {
  "kernelspec": {
   "display_name": "Python 3 (ipykernel)",
   "language": "python",
   "name": "python3"
  },
  "language_info": {
   "codemirror_mode": {
    "name": "ipython",
    "version": 3
   },
   "file_extension": ".py",
   "mimetype": "text/x-python",
   "name": "python",
   "nbconvert_exporter": "python",
   "pygments_lexer": "ipython3",
   "version": "3.10.6"
  }
 },
 "nbformat": 4,
 "nbformat_minor": 5
}
