{
 "cells": [
  {
   "cell_type": "markdown",
   "id": "570d176e-6a8d-4bdd-83fa-a9e1d99271fd",
   "metadata": {},
   "source": [
    "**Q1\n",
    "In Python, what is the difference between a built-in function and a user-defined function? Provide an\n",
    "example of each.**\n",
    "\n",
    "\n",
    "Functions which are already defined and are avialable to use readily are called `built-in` functions in Python.<br> Example:` print()`,`len()`<br>\n",
    "Functios that are developed and defined by the user while programming are called `user-defined` functions, this functions are availaible inside the defined code.<br> Example `sum_num(a,b):   return(a+b)`"
   ]
  },
  {
   "cell_type": "markdown",
   "id": "7af77ed5-7448-4907-9127-0cf51f3d33c3",
   "metadata": {},
   "source": [
    "**Q2 How can you pass arguments to a function in Python? Explain the difference between positional\n",
    "arguments and keyword arguments.**\n",
    "\n",
    "To pass arguments to a function in **Python**, we can use `positional` arguments or `keyword` arguments.<br>\n",
    "The difference between `positional` arguments and `keyword` arguments is that the order of **positional** arguments matters, but the order of **keyword** arguments does not.<br>\n",
    "**Function**<br><pre>\n",
    "sum_num(a,b):\n",
    "    return(a+b)</pre>\n",
    "**Positional argument:**<br> If a=1 and b=2. By this method we have to write `sum_num(1,2)`. Thus the value of a is **1** and value of b is `2`.<br>\n",
    "**Keyword argument:** <br> If a=1 and b=2. By this method we can write `sum_num(b=2,a=1)`. Thus the value of a is **1** and value of b is **2**. As the position doesnot matter so we can replace a and b by mentioning them."
   ]
  },
  {
   "cell_type": "markdown",
   "id": "6ca483e6-a8c7-4546-acab-f8fc695a4740",
   "metadata": {},
   "source": [
    "**Q3. What is the purpose of the return statement in a function? Can a function have multiple return\n",
    "statements? Explain with an example.**\n",
    "\n",
    "\n",
    "The `return` statement acts for providing the output after a function is performed. It typically returns the output of the operation performed inside the function or the reason for which the function was defined. <br>\n",
    "**Yes**, a function can have `multiple return` statements. The first return statement encountered during the execution of a function will cause the function to **immediately exit** and _return the specified value_ .Thus, the Subsequent `return` statements doesnot get executed.<br>\n",
    "**example**<br>\n",
    "<pre>\n",
    "def grades(score):\n",
    "    if score >= 90:\n",
    "        return \"A+\"\n",
    "    elif score >= 80:\n",
    "        return \"A\"\n",
    "    elif score >= 70:\n",
    "        return \"B\"\n",
    "    elif score >= 60:\n",
    "        return \"C\"\n",
    "    else:\n",
    "        return \"D\"\n",
    "</pre>\n",
    "\n",
    "So, in the above code we have multiple return statement. Now all the return statements are within the if function so for any given value of the score we will get a grade and the remaining return statements won't execute."
   ]
  },
  {
   "cell_type": "markdown",
   "id": "49c5b888-0cca-4caf-be2e-71af0ab46092",
   "metadata": {},
   "source": [
    "**Q4 What are lambda functions in Python? How are they different from regular functions? Provide an\n",
    "example where a lambda function can be useful.**\n",
    "\n",
    "`Lambda` functions, also known as anonymous functions,creates small one-line functions without formally defining the function using the `def` keyword.<br>\n",
    "|**Lambda Function**|**Regular Function**|\n",
    "|:-----|:-----|\n",
    "|There is no function name|There is a unique name|\n",
    "|Small one-line functions performing only simple tasks|Multiline line complex structure to perform Complex Tasks|\n",
    "|There is no return statement, The expression value is returned directly|Return statement is necessary to get the desired output|\n",
    "\n",
    "**Example** \n",
    "<pre>\n",
    "def sq(x):\n",
    "    return(x*x) # defining a regular function named sq which returns the square if the input number.\n",
    "\n",
    "sq_lambda = lambda x:x*x # A lambda function which returns the square of the input number.\n",
    "</pre>\n"
   ]
  },
  {
   "cell_type": "markdown",
   "id": "949ca645-61e6-4de5-9b40-0c3336ae06f9",
   "metadata": {},
   "source": [
    "**Q5 How does the concept of \"scope\" apply to functions in Python? Explain the difference between local\n",
    "scope and global scope.**\n",
    "\n",
    "`Scope` refers to the region of the code where a variable or a function is **accessible** and can be used. In **Python** there are generally two kind of scopes defined.<br>\n",
    "**1) Local Scope:-** <br> Variables defined within a function have local scope. This means they are only accessible within that specific function. They cannot be directly accessed from outside the function. <br>\n",
    "**2) Global Scope:-** <br>  Variables defined at the outermost level of the script or in the main body of the code have global scope. They can be accessed and modified from anywhere in the code, including within functions.<br>\n",
    "So the difference between them are:<br>\n",
    "|Local Scope|Global Scope|\n",
    "|:----|:----|\n",
    "|Can be assessed only inside the function whre defined|Can be assessed anywhere inside the program|\n",
    "|They are destroyed after the execution of the function|They persist throughout the end of the porgram|"
   ]
  },
  {
   "cell_type": "markdown",
   "id": "9b3754d4-4f50-4c0c-8da0-c26976f2fbeb",
   "metadata": {},
   "source": [
    "**Q6 How can you use the \"return\" statement in a Python function to return multiple values?**\n",
    "\n",
    "The `return` statement in a function to return multiple values as a `tuple`, a `list`, or any other `iterable` data structure. This is achieved by simply separating the values with **commas** after the `return keyword` at the end of the `function`. When the function is called, these values are packed into a single data structure and are then unpacked after executing the data."
   ]
  },
  {
   "cell_type": "markdown",
   "id": "e336236a-3303-4b81-897b-a169cfde0d47",
   "metadata": {},
   "source": [
    "**Q7 What is the difference between the \"pass by value\" and \"pass by reference\" concepts when it\n",
    "comes to function arguments in Python?**\n",
    "\n",
    "`Pass by Value`:<br> When we pass an immutable object (e.g., numbers, strings, tuples) as an argument to a function, we are actually passing a copy of the object's value.Thus, the changes made to the parameter within the function won't affect the original object outside the function.<br>\n",
    "`Pass by refference`:<br>  When we pass a mutable object (e.g., lists, dictionaries) as an argument to a function, we are passing a reference to the object. This means that changes made to the parameter within the function will affect the original object outside the function.\n"
   ]
  },
  {
   "cell_type": "markdown",
   "id": "13e55bf3-791e-4216-be87-f35e0b7d7ff4",
   "metadata": {},
   "source": [
    "**Q8. Create a function that can intake integer or decimal value and do following operations:<pre>\n",
    "a. Logarithmic function (log x)\n",
    "b. Exponential function (exp(x))\n",
    "c. Power function with base 2 (2x)\n",
    "d. Square root</pre>**\n",
    "\n",
    "The code is written in the below chunk:"
   ]
  },
  {
   "cell_type": "code",
   "execution_count": null,
   "id": "7aa79221-cad6-4571-8524-fd276be1ec85",
   "metadata": {},
   "outputs": [],
   "source": [
    "import numpy as np # importing numerical python library\n",
    "def funcs(num): # define the function.\n",
    "    log = np.log(num) # calculate natural Logerithm\n",
    "    exp = np.exp(num) # Calculate the exponential value  of the number\n",
    "    por = 2 ** num # calculate the Power with base 2\n",
    "    sqt = np.sqrt(num) # Calculating the square root.\n",
    "    return(log,exp,por,sqt) # Returning the values in a tuple.\n",
    "\n",
    "num = 10 # Declaring the number as 10\n",
    "log,exp,por,sqt = funcs(num) # Breaking the results.\n",
    "# Printing the \n",
    "print(f\"The log value of {num} is {log}\")\n",
    "print(f\"The exponential value of {num} is {exp}\")\n",
    "print(f\"The power value of {num} is {por}\")\n",
    "print(f\"The square root value of {num} is {sqt}\")"
   ]
  },
  {
   "cell_type": "markdown",
   "id": "00766bb2-acc0-4b77-9cc8-2977d9cf1422",
   "metadata": {},
   "source": [
    "**Q9. Create a function that takes a full name as an argument and returns first name and last name.**\n",
    "\n",
    "The below chunk has the code:"
   ]
  },
  {
   "cell_type": "code",
   "execution_count": 4,
   "id": "34ebfc98-366f-4180-86f6-c9929468ad40",
   "metadata": {},
   "outputs": [
    {
     "name": "stdout",
     "output_type": "stream",
     "text": [
      "The first name is Saugata \n",
      "The last name is Das\n"
     ]
    }
   ],
   "source": [
    "def seperate(name): # defining the function\n",
    "    first_name = \"\" # creating the First name as a string variable.\n",
    "    last_name = \"\"  # creating the Last name as a string variable.\n",
    "    \n",
    "    i = 0           # setting the iterator value i as 0\n",
    "    while(name[i] != \" \"): # Creating a while loop with condition that the character is not a white space \" \"\n",
    "        first_name = first_name + name[i] # Adding the characters with first name\n",
    "        i = i+1            # The iterator value is increased by 1 as it is a while loop.\n",
    "        \n",
    "    while(i<len(name)):   # Creating another while loop with condition that iterator is less than the last character\n",
    "        if(name[i] != \" \"): # Checking the condition that the character is not a whitespace \" \".\n",
    "            last_name = last_name + name[i] # # Adding the characters with last name\n",
    "        i = i+1              # Increasing the value of the iterator by 1 as it is awhile loop.\n",
    "    return first_name, last_name  # returning the first and last name as seprate entities.\n",
    "first_name, last_name = seperate(\"Saugata Das\") # Breaking the results in two parts\n",
    "\n",
    "print(f\"The first name is {first_name} \\nThe last name is {last_name}\") # Printing the name."
   ]
  },
  {
   "cell_type": "code",
   "execution_count": null,
   "id": "e7381a9e-4870-4089-8edd-33b2fb9797ba",
   "metadata": {},
   "outputs": [],
   "source": [
    "lis = [2,8,4,5,1,7,9,120,130]\n",
    "np.mean(lis),np.median(lis)"
   ]
  },
  {
   "cell_type": "code",
   "execution_count": null,
   "id": "2ab2f074-99e0-42fd-a421-bfef6a1a8132",
   "metadata": {},
   "outputs": [],
   "source": [
    "import statistics as st\n",
    "st.mode(lis)\n",
    "st."
   ]
  },
  {
   "cell_type": "code",
   "execution_count": null,
   "id": "1650f208-e276-462a-b42a-83f3907cf966",
   "metadata": {},
   "outputs": [],
   "source": []
  }
 ],
 "metadata": {
  "kernelspec": {
   "display_name": "Python 3 (ipykernel)",
   "language": "python",
   "name": "python3"
  },
  "language_info": {
   "codemirror_mode": {
    "name": "ipython",
    "version": 3
   },
   "file_extension": ".py",
   "mimetype": "text/x-python",
   "name": "python",
   "nbconvert_exporter": "python",
   "pygments_lexer": "ipython3",
   "version": "3.10.6"
  }
 },
 "nbformat": 4,
 "nbformat_minor": 5
}
