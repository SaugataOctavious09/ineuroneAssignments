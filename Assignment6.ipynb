{
 "cells": [
  {
   "cell_type": "markdown",
   "id": "bdc502d0-0d79-4524-b49a-92084ac225f3",
   "metadata": {},
   "source": [
    "# Assignment6"
   ]
  },
  {
   "cell_type": "markdown",
   "id": "7e4d6edd-5436-45f6-9c48-b6881790646e",
   "metadata": {},
   "source": [
    "**Q.1. What are keywords in python? Using the keyword library, print all the python keywords.**\n",
    "\n",
    "Keywords are **reserved** variables in python that cannot be used as a `variable name`, `function` name, or any other `identifier`.<br>\n",
    "The code to print all the keywords is shown below."
   ]
  },
  {
   "cell_type": "code",
   "execution_count": 1,
   "id": "b1ffe8c4-b0a2-474e-a58e-bf00041c6c10",
   "metadata": {},
   "outputs": [
    {
     "name": "stdout",
     "output_type": "stream",
     "text": [
      "['False',\n",
      " 'None',\n",
      " 'True',\n",
      " 'and',\n",
      " 'as',\n",
      " 'assert',\n",
      " 'async',\n",
      " 'await',\n",
      " 'break',\n",
      " 'class',\n",
      " 'continue',\n",
      " 'def',\n",
      " 'del',\n",
      " 'elif',\n",
      " 'else',\n",
      " 'except',\n",
      " 'finally',\n",
      " 'for',\n",
      " 'from',\n",
      " 'global',\n",
      " 'if',\n",
      " 'import',\n",
      " 'in',\n",
      " 'is',\n",
      " 'lambda',\n",
      " 'nonlocal',\n",
      " 'not',\n",
      " 'or',\n",
      " 'pass',\n",
      " 'raise',\n",
      " 'return',\n",
      " 'try',\n",
      " 'while',\n",
      " 'with',\n",
      " 'yield']\n"
     ]
    }
   ],
   "source": [
    "import keyword\n",
    "import pprint\n",
    "pprint.pprint(keyword.kwlist)"
   ]
  },
  {
   "cell_type": "markdown",
   "id": "f59d1d61-b973-4a6b-9231-52c9c94fdf89",
   "metadata": {},
   "source": [
    "**Q.2. What are the rules to create variables in python?**\n",
    "\n",
    "Python variables must follow the below naming conditions:\n",
    "\n",
    "* A variable name must start with a **letter** or the **underscore character** <br>\n",
    "* A variable name cannot start with a **number**.<br>\n",
    "* A variable name can only contain **alpha-numeric** characters and **underscores** `(A-z, 0-9, and _ )`.<br>\n",
    "**Note:-** Variable names are **case-sensitive** (age, Age and AGE are three different variables)."
   ]
  },
  {
   "cell_type": "markdown",
   "id": "0f299b5f-bfa7-4bda-8faa-52b5a9125bc8",
   "metadata": {},
   "source": [
    "**Q.3. What are the standards and conventions followed for the nomenclature of variables in\n",
    "python to improve code readability and maintainability?**\n",
    "\n",
    "\n",
    "Some of the coding standards for the nomenclature of variables in\n",
    "python to improve code readability and maintainability are:<br>\n",
    "\n",
    "* Limited use of `global` variable: <br>  Rulls telling us about which types of data that can be declared global and the data that can’t be.<br>\n",
    "* Standard header for different `modules`: <br> Helps in better understnding of the code. <br>\n",
    "* `Indentation`: <br> There should be proper use of whitespaces, This helps to increase the readability of th code.<br>\n",
    "* Code should be `well-documented`: <br> Comments regarding the statements increase the understandability of the code.<br>"
   ]
  },
  {
   "cell_type": "markdown",
   "id": "402c5f14-e8ad-45b3-8c87-ff415d94e486",
   "metadata": {},
   "source": [
    "**Q.4. What will happen if a keyword is used as a variable name?**\n",
    "\n",
    "If we try to use a keyword as a variable name we get a `SyntaxError:` Which states cannont assign to the **variable name**"
   ]
  },
  {
   "cell_type": "code",
   "execution_count": 2,
   "id": "2e3a287a-e9db-4334-806a-26c17e144679",
   "metadata": {},
   "outputs": [
    {
     "ename": "SyntaxError",
     "evalue": "cannot assign to True (1262426214.py, line 2)",
     "output_type": "error",
     "traceback": [
      "\u001b[0;36m  Cell \u001b[0;32mIn [2], line 2\u001b[0;36m\u001b[0m\n\u001b[0;31m    True = \"Saugata\"\u001b[0m\n\u001b[0m    ^\u001b[0m\n\u001b[0;31mSyntaxError\u001b[0m\u001b[0;31m:\u001b[0m cannot assign to True\n"
     ]
    }
   ],
   "source": [
    "# To check I tried to insert my name in the keyword True\n",
    "True = \"Saugata\""
   ]
  },
  {
   "cell_type": "markdown",
   "id": "9ba7dc53-dccf-441f-8795-b53491aa9824",
   "metadata": {},
   "source": [
    "**Q.5. For what purpose def keyword is used?**\n",
    "\n",
    "The purpose `def` keyword in Python is used to define a `function`, it is placed before a **function name** that is provided by the user to create a `user-defined function`."
   ]
  },
  {
   "cell_type": "markdown",
   "id": "9f6fdbf9-6c46-4538-84f8-c7ea2ea40c8e",
   "metadata": {},
   "source": [
    "**Q.6. What is the operation of this special character ‘\\’?**\n",
    "\n",
    "In Python strings, the backslash `\"\\\"` is a **special character**, also known as the `\"escape\"` character. It is used in representing certain whitespace characters, such as **\"\\t\"** is a `tab`, **\"\\n\"** is a `newline`, and **\"\\r\"** is a `carriage return`.<br>\n",
    "In **mathematical** operation `\\` is used for `floor-division`."
   ]
  },
  {
   "cell_type": "markdown",
   "id": "417f2154-a36a-4349-9a40-526a04565039",
   "metadata": {},
   "source": [
    "**Q.7. Give an example of the following conditions:<br>\n",
    "(i) Homogeneous list<br>\n",
    "(ii) Heterogeneous set<br>\n",
    "(iii) Homogeneous tuple<br>**\n",
    "\n",
    "(i) Homogeneous List:<br>\n",
    "A homogeneous list is a list that contains elements of the same data type. In this example, all elements in the list are integers<br>\n",
    "(ii) Heterogeneous Set:<br>\n",
    "A heterogeneous set is a set that contains elements of different data types. In this example, the set contains both strings and integers.<br>\n",
    "(iii) Homogeneous Tuple:<br>\n",
    "A homogeneous tuple is a tuple that contains elements of the same data type. In this example, all elements in the tuple are strings:<br>\n",
    "**Note** Examples are in the below chunk."
   ]
  },
  {
   "cell_type": "code",
   "execution_count": 3,
   "id": "5bd25c4a-e81b-4dbb-90dc-a78f847d2541",
   "metadata": {},
   "outputs": [],
   "source": [
    "## Homogeneous List\n",
    "homogeneous_list = [1, 2, 3, 4, 5]\n",
    "\n",
    "## Heterogeneous set\n",
    "heterogeneous_set = {\"apple\", 42, 3.14, \"banana\"}\n",
    "\n",
    "## Homogeneous tuple:\n",
    "homogeneous_tuple = (\"red\", \"green\", \"blue\", \"yellow\")\n"
   ]
  },
  {
   "cell_type": "markdown",
   "id": "7bc126c8-d636-417c-9fdf-94e87b5de426",
   "metadata": {},
   "source": [
    "**Q.8. Explain the mutable and immutable data types with proper explanation & examples.**\n",
    "\n",
    "Data types can be categorized as either `mutable` or `immutable` based on whether their values can be **modified** after they are created, or not.<br>\n",
    "(i) **Mutable Data Types:** <br>\n",
    "Mutable data types are those whose values can be modified after they are created.This means that we can change the values after defining the same earlier<br> Lists, dictionaries, and sets in Python are examples of mutable data types.<br>\n",
    "\n",
    "(ii) **Immutable Data Types:**\n",
    "\n",
    "Immutable data types are those whose values cannot be modified after they are created. This me the values can't be modified once we have defined them.<br>integers, floats, strings, and tuples are immutable objects in Python.<br>\n",
    "**Note:** Python code example below.  "
   ]
  },
  {
   "cell_type": "code",
   "execution_count": 4,
   "id": "8f1f101d-dc6b-4bb3-8234-5d335ba445cf",
   "metadata": {},
   "outputs": [
    {
     "name": "stdout",
     "output_type": "stream",
     "text": [
      "[27, 2, 3]\n"
     ]
    }
   ],
   "source": [
    "## Mutable Data type List object\n",
    "my_list = [1, 2, 3]\n",
    "my_list[0] = 27  # Modifying the first element\n",
    "print(my_list)  # Prints: [10, 2, 3]\n",
    "\n",
    "## Immutable Data Type String\n",
    "\n",
    "# name = \"Saugata\" # declaring my name as a string variable in the variable name.\n",
    "# name[0] = \"B\" #This will throw error as we try to update the value of 1st index as \"B\" from \"S\" "
   ]
  },
  {
   "cell_type": "markdown",
   "id": "1c4e4604-caf1-4c67-9038-130a4a734b8a",
   "metadata": {},
   "source": [
    "**Q.9. Write a code to create the given structure using only for loop.**\n",
    "<pre>\n",
    "      *\n",
    "     ***\n",
    "    *****\n",
    "   *******\n",
    "  *********\n",
    "</pre>\n",
    "\n",
    "The code is written in the chunk below."
   ]
  },
  {
   "cell_type": "code",
   "execution_count": 5,
   "id": "1b4a4dfe-5f49-462f-846c-67608465ba69",
   "metadata": {},
   "outputs": [
    {
     "name": "stdout",
     "output_type": "stream",
     "text": [
      "    *\n",
      "   ***\n",
      "  *****\n",
      " *******\n",
      "*********\n"
     ]
    }
   ],
   "source": [
    "rows = 5 # number of rows to be printed.\n",
    "\n",
    "for i in range(1, rows + 1):    # Print spaces rows+1 as range excludes the end value.\n",
    "    for j in range(rows - i, 0, -1): # Printing spaces from backward.\n",
    "        print(\" \", end=\"\")\n",
    "    for k in range(1, 2 * i):   # Print asterisks\n",
    "        print(\"*\", end=\"\")\n",
    "    \n",
    "    print()  # Move to the next line\n"
   ]
  },
  {
   "cell_type": "markdown",
   "id": "3a6dc945-0cb4-4942-be27-b0977074b7dd",
   "metadata": {},
   "source": [
    "**Q.10. Write a code to create the given structure using while loop.** <br>\n",
    "<pre>\n",
    "|||||||||\n",
    " |||||||\n",
    "  |||||\n",
    "   |||\n",
    "    |\n",
    "</pre>\n",
    "\n",
    "The code is written in the chunk below."
   ]
  },
  {
   "cell_type": "code",
   "execution_count": 6,
   "id": "d00f47be-57fc-4842-ba12-2726042ca87b",
   "metadata": {},
   "outputs": [
    {
     "name": "stdout",
     "output_type": "stream",
     "text": [
      "|||||||||\n",
      " |||||||\n",
      "  |||||\n",
      "   |||\n",
      "    |\n"
     ]
    }
   ],
   "source": [
    "rows = 5 #number of rows to be printed.\n",
    "for i in range(rows, 0, -1): # Printing spaces from backward.\n",
    "    for j in range(0, rows - i): \n",
    "        print(\" \", end=\"\")   \n",
    "    for k in range(1, 2 * i):        # loop to print the asterisks in each row. #\n",
    "                                    #The number of | in each row is determined by 2 * i - 1. Hence we start the index from 1\n",
    "                                    #The multiplication by 2 accounts for the pattern of increasing | in each row, and subtracting 1 ensures an odd number of |.\n",
    "        print(\"|\", end=\"\")\n",
    "    \n",
    "    print()  # Move to the next line\n"
   ]
  }
 ],
 "metadata": {
  "kernelspec": {
   "display_name": "Python 3 (ipykernel)",
   "language": "python",
   "name": "python3"
  },
  "language_info": {
   "codemirror_mode": {
    "name": "ipython",
    "version": 3
   },
   "file_extension": ".py",
   "mimetype": "text/x-python",
   "name": "python",
   "nbconvert_exporter": "python",
   "pygments_lexer": "ipython3",
   "version": "3.10.6"
  }
 },
 "nbformat": 4,
 "nbformat_minor": 5
}
