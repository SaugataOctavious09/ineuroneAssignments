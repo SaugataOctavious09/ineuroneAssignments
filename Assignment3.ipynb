{
 "cells": [
  {
   "cell_type": "markdown",
   "id": "f2a10f7b-8f2c-4375-8fa9-1ac737fdd418",
   "metadata": {},
   "source": [
    "# Assignment 3"
   ]
  },
  {
   "cell_type": "markdown",
   "id": "11004fbc-1a7d-4661-a69e-3c333f48c831",
   "metadata": {},
   "source": [
    "**Q1 Why are functions advantageous to have in your programs?**\n",
    "\n",
    "Advantages of using **functions** in programs.\n",
    "* **Reusability**:- Functions can be reused across different parts of your program or even in different projects, saving you time and effort.<br>\n",
    "* **Modularity**:- Complex tasks are broken down into understandable simple small pieces of code, which are named as functions.<br>\n",
    "* **Code Organization**:- It is an organized way to present the cause,this improves the clarity of the code. <br>\n",
    "* **Redable and well mainatainance**:- Functions help us to read tthe code easily and maintain the codes easily.<br>\n",
    "* **Testing**:- A small piece of function can be testeed outside the whole code to see its functioning correctly.<br>\n",
    "* **Documentation**:- Functions help to write the documentation of the code easily.<br>\n",
    "* **Fixing error**:- Functions are used for using the code in isolation so the error can be found and fixed easily."
   ]
  },
  {
   "cell_type": "markdown",
   "id": "871df146-8950-4120-bbdc-601d35e25c05",
   "metadata": {},
   "source": [
    "**Q2. \n",
    "When does the code in a function run: when it's specified or when it's called?**\n",
    "\n",
    "A function runs when it is **called**. A funtion is **specified** when we define it."
   ]
  },
  {
   "cell_type": "markdown",
   "id": "910155b6-08f4-4ce5-9004-8288c5efa37e",
   "metadata": {},
   "source": [
    "**Q3.\n",
    "What statement creates a function?**\n",
    "\n",
    "The `def` statement in python creates a **function**. The def statement stands for \"define\" and is used to define the new function by providing a name, optional parameters, and the code block that makes up the function's body."
   ]
  },
  {
   "cell_type": "markdown",
   "id": "da4bebf1-a2fa-481d-99c4-e8ce871d875d",
   "metadata": {},
   "source": [
    "**Q4.\n",
    "What is the difference between a function and a function call?**\n",
    "\n",
    "**Function:-**<br>\n",
    "A function is a block of code that performs a specific task or a series of task.Functions are reusable building blocks of a program.<br>\n",
    "**Function Call:-**<br>\n",
    "A function call is an instruction that tells the program to us ethe specific function at the time. To call a function we write its nam efollowed by parantheses."
   ]
  },
  {
   "cell_type": "markdown",
   "id": "cb9fcf80-3ccd-46e7-8db2-9045798d59b2",
   "metadata": {},
   "source": [
    "**Q5. How many global scopes are there in a Python program? How many local scopes?**\n",
    "\n",
    "In Python there is only **Global Scope**. Variables defined in **global** scope can be asseed throughout the code and can be modified at any part. It is the scope in which variables and objects defined are considered globally accessible throughout the entire program.<br> \n",
    "**Local scopes** are instances when the function are called inside a program.  variables defined in a local scope are limited to that specific scope."
   ]
  },
  {
   "cell_type": "markdown",
   "id": "f2e99753-04e7-46fb-b142-1f946620837a",
   "metadata": {},
   "source": [
    "**Q6.\n",
    "What happens to variables in a local scope when the function call returns?**\n",
    "\n",
    "When a function call returns, the variables that are defined within the local scope of that function will be no longer accessible. They are destroyed, and their memory is released. "
   ]
  },
  {
   "cell_type": "markdown",
   "id": "f897d565-09f2-4400-be2f-39e8cbc6517e",
   "metadata": {},
   "source": [
    "**Q7.\n",
    "What is the concept of a return value? Is it possible to have a return value in an expression?**\n",
    "\n",
    "A return is a value that a function returns to the calling script or function when it completes its task.<br>\n",
    "Yes, it is possible to have a return value in an expression.This is particularly useful when we want to use the returned value in calculations."
   ]
  },
  {
   "cell_type": "markdown",
   "id": "cea4f4fa-74ae-4c7b-9133-03e6b9ea7a95",
   "metadata": {},
   "source": [
    "**Q8.\n",
    "If a function does not have a return statement, what is the return value of a call to that function?**\n",
    "\n",
    "If a function does not have a `return` statement, then the `return` value of a call to that `function` is **None**. If a function reaches the end without encountering a `return` statement, it implicitly returns `None`."
   ]
  },
  {
   "cell_type": "markdown",
   "id": "4912150c-af80-47f3-815d-40d9cd2f67b6",
   "metadata": {},
   "source": [
    "**Q9.\n",
    "How do you make a function variable refer to the global variable?**\n",
    "\n",
    "We need to use the `global` `keyword` in order to make a function variable refer to a `global variable`, otherwise it is refered to as `local variable`."
   ]
  },
  {
   "cell_type": "markdown",
   "id": "b1774d9e-c81c-48a5-971c-b5ee4670ec04",
   "metadata": {},
   "source": [
    "**Q10.\n",
    "What is the data type of None?**\n",
    "\n",
    "The data type of the `None` type data is `NoneType`. The below code explains the same."
   ]
  },
  {
   "cell_type": "code",
   "execution_count": 1,
   "id": "395519c7-9880-4c7f-85f4-b346c399c7b6",
   "metadata": {},
   "outputs": [
    {
     "name": "stdout",
     "output_type": "stream",
     "text": [
      "<class 'NoneType'>\n"
     ]
    }
   ],
   "source": [
    "x = None\n",
    "print(type(x))  # Prints: <class 'NoneType'>\n"
   ]
  },
  {
   "cell_type": "markdown",
   "id": "2d7112cd-5104-4ce1-ad11-415b58767146",
   "metadata": {},
   "source": [
    "**Q11.\n",
    "What does the sentence import areallyourpetsnamederic do?**\n",
    "\n",
    "There is no module named as this. So, this will cause an error.\n",
    "(Kindly let me know in case I understand the code wrong. Honestly, I am unable to understand this question.)"
   ]
  },
  {
   "cell_type": "code",
   "execution_count": 2,
   "id": "57a7230e-c7f6-4938-b334-6cc2a7f2bac3",
   "metadata": {},
   "outputs": [
    {
     "ename": "ModuleNotFoundError",
     "evalue": "No module named 'areallyourpetsnamederic'",
     "output_type": "error",
     "traceback": [
      "\u001b[0;31m---------------------------------------------------------------------------\u001b[0m",
      "\u001b[0;31mModuleNotFoundError\u001b[0m                       Traceback (most recent call last)",
      "Cell \u001b[0;32mIn [2], line 1\u001b[0m\n\u001b[0;32m----> 1\u001b[0m \u001b[38;5;28;01mimport\u001b[39;00m \u001b[38;5;21;01mareallyourpetsnamederic\u001b[39;00m\n",
      "\u001b[0;31mModuleNotFoundError\u001b[0m: No module named 'areallyourpetsnamederic'"
     ]
    }
   ],
   "source": [
    "import areallyourpetsnamederic"
   ]
  },
  {
   "cell_type": "markdown",
   "id": "82ecd508-db82-423d-941e-7f8312192412",
   "metadata": {},
   "source": [
    "**Q12. \n",
    "If you had a bacon() feature in a spam module, what would you call it after importing spam?**\n",
    "\n",
    "This function can be called with spam.bacon()."
   ]
  },
  {
   "cell_type": "markdown",
   "id": "52e2e036-d3b2-400e-af22-d20f6af1534b",
   "metadata": {},
   "source": [
    "**Q13.\n",
    "What can you do to save a programme from crashing if it encounters an error?**\n",
    "\n",
    "We place the suspected code line inside the `try` clause, to avoid the code from facing an error and crashing, insted that part of the code will redirect to other blocks, in case of failure. "
   ]
  },
  {
   "cell_type": "markdown",
   "id": "ca704c13-9460-47cb-bbd1-7e66f5f93f44",
   "metadata": {},
   "source": [
    "**Q14.\n",
    "What is the purpose of the try clause? What is the purpose of the except clause?**\n",
    "\n",
    "The code that could potentially cause an **error** goes in the `try` clause.<br>\n",
    "The code that executes if an **error** happens goes in the `except` clause."
   ]
  },
  {
   "cell_type": "code",
   "execution_count": null,
   "id": "2d013296-7c7b-4ffe-8c4a-7af8629f8358",
   "metadata": {},
   "outputs": [],
   "source": []
  }
 ],
 "metadata": {
  "kernelspec": {
   "display_name": "Python 3 (ipykernel)",
   "language": "python",
   "name": "python3"
  },
  "language_info": {
   "codemirror_mode": {
    "name": "ipython",
    "version": 3
   },
   "file_extension": ".py",
   "mimetype": "text/x-python",
   "name": "python",
   "nbconvert_exporter": "python",
   "pygments_lexer": "ipython3",
   "version": "3.10.6"
  }
 },
 "nbformat": 4,
 "nbformat_minor": 5
}
