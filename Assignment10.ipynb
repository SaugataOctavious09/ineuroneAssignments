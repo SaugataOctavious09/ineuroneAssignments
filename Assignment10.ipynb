{
  "nbformat": 4,
  "nbformat_minor": 0,
  "metadata": {
    "colab": {
      "provenance": [],
      "toc_visible": true
    },
    "kernelspec": {
      "name": "python3",
      "display_name": "Python 3"
    },
    "language_info": {
      "name": "python"
    }
  },
  "cells": [
    {
      "cell_type": "markdown",
      "source": [
        "# Assignment 10"
      ],
      "metadata": {
        "id": "uymRlp1kFeG8"
      }
    },
    {
      "cell_type": "markdown",
      "source": [
        "**Q1 What is the role of try and exception block?**\n",
        "\n",
        "The `try` and `except` blocks are to handle **exceptions** or **errors** that might occur during the execution of a program. They help in the robustness of the program.<br>\n",
        "**Try block:-** <br> The `try` block contains the code that we suspect to raise an exceerror or exception. It is a guarded section in the code where we want to monitor for the probable errors.So, if the program in the try block results in an error the contol of the programm goes to the corresponding exception block <br>\n",
        "\n",
        "**Exception block:-**<br> The `exception` block follows the `try` block. It contains the code that handles **exceptions**. When an exception occurs in the `try` block, the Python interpreter checks if there is a matching `exception` block. If a matching `exception` block is found, the code inside it is executed to handle the *exception*"
      ],
      "metadata": {
        "id": "epziINZjFkg1"
      }
    },
    {
      "cell_type": "markdown",
      "source": [
        "**Q2 What is the syntax for a basic try-except block?**\n",
        "\n",
        "The basic syntax for try-except block is:\n",
        "```\n",
        "try:\n",
        "    # This keyword starts the try block and is followed by a colon.\n",
        "    It contains the code that may raise an exception.\n",
        "except SomeExceptionType:\n",
        "    # Code to handle the exception of type SomeExceptionType\n",
        "except AnotherExceptionType:\n",
        "    # Code to handle the exception of type AnotherExceptionType\n",
        "    # We can have multiple except blocks to handle different exceptions\n",
        "else:\n",
        "    #This part is executed if no exceptions are raised in the try block. It's entirely optional and can be omitted if not needed.\n",
        "finally:\n",
        "    #This part contains code that always runs, regardless of whether an exception was raised or not.\n",
        "\n",
        "```\n"
      ],
      "metadata": {
        "id": "evsbbhX7Fkjv"
      }
    },
    {
      "cell_type": "markdown",
      "source": [
        "**Q3 What happens if an exception occurs inside a try block and there is no matching except block?**\n",
        "\n",
        "If an exception occurs inside a try block, and there is no matching except block to handle that specific exception, the exception will propagate up the call stack. In other words, Python will search for a higher-level try...except block, or if none is found, the program will terminate with an unhandled exception message."
      ],
      "metadata": {
        "id": "Z1pVOhW2FknX"
      }
    },
    {
      "cell_type": "markdown",
      "source": [
        "**Q4 What is the difference between using a bare except block and specifying a specific exception type?**\n",
        "\n",
        "|Specific block| Bare block|\n",
        "|:----|:-----|\n",
        "|We are instructing Python to catch and handle only<br> exceptions of that particular type.|It is used when you want to catch and handle any exception that occurs,<br> regardless of its type. It's a catch-all mechanism for handling<br> unexpected exceptions.|\n",
        "|If an exception of the specified type occurs,<br> the corresponding except block is executed. |In case of a bare except block, it catches exceptions of any type.<br> This can be useful for logging errors or gracefully handling unexpected issues,|\n"
      ],
      "metadata": {
        "id": "5tcN1PKYFkqp"
      }
    },
    {
      "cell_type": "markdown",
      "source": [
        "**Q5 Can you have nested try-except blocks in Python? If yes, then give an example.**\n",
        "\n",
        "Yes it is possible the below block of code is an example."
      ],
      "metadata": {
        "id": "yfVlQDOfFkth"
      }
    },
    {
      "cell_type": "code",
      "source": [
        "try:\n",
        "    # Outer try except block: Attempts to perform a division operation (num1 / num2).\n",
        "    num1 = int(input(\"Enter a dividend: \"))\n",
        "    num2 = int(input(\"Enter a divisor: \"))\n",
        "\n",
        "    try:\n",
        "        # Inner try except block: The inner try block handles the division operation and checks for a ZeroDivisionError (division by zero) and a ValueError (invalid input) exception.\n",
        "        result = num1 / num2\n",
        "        print(\"Result:\", result)\n",
        "    except ZeroDivisionError:\n",
        "        print(\"Inner: Division by zero is not allowed.\")\n",
        "    except ValueError:\n",
        "        print(\"Inner: Invalid input. Please enter valid numbers.\")\n",
        "except ValueError:\n",
        "    print(\"Outer: Invalid input. Please enter valid numbers.\")\n",
        "except Exception as e:\n",
        "    print(\"Outer: An error occurred:\", e)\n"
      ],
      "metadata": {
        "id": "otvPJivpR3Pd"
      },
      "execution_count": null,
      "outputs": []
    },
    {
      "cell_type": "markdown",
      "source": [
        "**Q6 Can we use multiple exception blocks, if yes then give an example.**\n",
        "\n",
        "Yes, It alllows us to specify different error-handling logic for various exception types. <br> The below block of code explains the code"
      ],
      "metadata": {
        "id": "ATsGeNjSFkvz"
      }
    },
    {
      "cell_type": "code",
      "source": [
        "try:\n",
        "    # Code that may raise an exception\n",
        "    x = int(input(\"Enter a number: \"))\n",
        "    result = 9 / x\n",
        "    print(\"Result:\", result)\n",
        "except ValueError:\n",
        "    # Handle ValueError (invalid input)\n",
        "    print(\"Invalid input. Please enter a valid number.\")\n",
        "except ZeroDivisionError:\n",
        "    # Handle ZeroDivisionError (division by zero)\n",
        "    print(\"Division by zero is not allowed.\")\n",
        "except Exception as e:\n",
        "    # Handle other exceptions\n",
        "    print(f\"An error occurred: {e}\")\n"
      ],
      "metadata": {
        "id": "YbBC2RTYSuqS"
      },
      "execution_count": null,
      "outputs": []
    },
    {
      "cell_type": "markdown",
      "source": [
        "**Q7 Write the reason due to which following errors are raised: <pre>\n",
        "a. EOFError\n",
        "b. FloatingPointError\n",
        "c. IndexError\n",
        "d. MemoryError\n",
        "e. OverflowError\n",
        "f. TabError\n",
        "g. ValueError** </pre>\n",
        "\n",
        ">a.  EOFError (End of File Error):<br>Raised when an input operation reaches the end of a file, but there is an attempt to read more data.\n",
        "\n",
        ">b. FloatingPointError:<br>Raised when a floating-point operation (division by zero) results in an undefined or unrepresentable value.\n",
        "\n",
        ">c. IndexError:<br>Raised when trying to access an index that is outside the valid range for a sequence (a list or string).\n",
        "\n",
        ">d. MemoryError:<br> Raised when a program runs out of available memory resources.\n",
        "\n",
        ">e. OverflowError:<br>Raised when an arithmetic operation exceeds the limits of the current data type, usually for integer operations.\n",
        "\n",
        ">f. TabError:<br>Raised when the indentation in Python code is inconsistent and does not conform to the expected indentation level.\n",
        "\n",
        ">g. ValueError:<br>Raised when a function receives an argument of the correct data type but with an inappropriate or invalid value.\n"
      ],
      "metadata": {
        "id": "Dpr6mTOSFkyL"
      }
    },
    {
      "cell_type": "markdown",
      "source": [
        "**Q8 Write code for the following given scenario and add try-exception block to it.<pre>\n",
        "a. Program to divide two numbers\n",
        "b. Program to convert a string to an integer\n",
        "c. Program to access an element in a list\n",
        "d. Program to handle a specific exception\n",
        "e. Program to handle any exception** </pre>\n",
        "\n",
        "The below blocks of code will display the same."
      ],
      "metadata": {
        "id": "XuSqS_RPFk0V"
      }
    },
    {
      "cell_type": "code",
      "source": [
        "# a. Program to divide two numbers\n",
        "try:\n",
        "    num1 = float(input(\"Enter the first number: \"))\n",
        "    num2 = float(input(\"Enter the second number: \"))\n",
        "    result = num1 / num2\n",
        "    print(\"Result:\", result)\n",
        "except ZeroDivisionError:\n",
        "    print(\"Error: Division by zero is not allowed.\")\n",
        "except ValueError:\n",
        "    print(\"Error: Invalid input. Please enter valid numbers.\")\n",
        "except Exception as e:\n",
        "    print(f\"An unexpected error occurred: {e}\")\n"
      ],
      "metadata": {
        "id": "C_gIGBizWczC"
      },
      "execution_count": null,
      "outputs": []
    },
    {
      "cell_type": "code",
      "source": [
        "# b. Program to convert a string to an integer\n",
        "try:\n",
        "    user_input = input(\"Enter an integer: \")\n",
        "    num = int(user_input)\n",
        "    print(\"Integer:\", num)\n",
        "except ValueError:\n",
        "    print(\"Error: Invalid input. Please enter a valid integer.\")\n",
        "except Exception as e:\n",
        "    print(f\"An unexpected error occurred: {e}\")\n"
      ],
      "metadata": {
        "id": "rV0eYO2zWhTh"
      },
      "execution_count": null,
      "outputs": []
    },
    {
      "cell_type": "code",
      "source": [
        "# c. Program to access an element in a list\n",
        "\n",
        "try:\n",
        "    my_list = [1, 2, 3, 4, 5]\n",
        "    index = int(input(\"Enter an index to access an element: \"))\n",
        "    value = my_list[index]\n",
        "    print(\"Element at index\", index, \"is\", value)\n",
        "except IndexError:\n",
        "    print(\"Error: Index is out of range.\")\n",
        "except ValueError:\n",
        "    print(\"Error: Invalid input. Please enter a valid integer for the index.\")\n",
        "except Exception as e:\n",
        "    print(f\"An unexpected error occurred: {e}\")\n"
      ],
      "metadata": {
        "id": "NK0xAJuWWsFn"
      },
      "execution_count": null,
      "outputs": []
    },
    {
      "cell_type": "code",
      "source": [
        "# d. Program to handle a specific exception (FileNotFoundError)\n",
        "try:\n",
        "    file_name = \"nonexistent_file.txt\"\n",
        "    with open(file_name, \"r\") as file:\n",
        "        contents = file.read()\n",
        "    print(\"File contents:\", contents)\n",
        "except FileNotFoundError:\n",
        "    print(f\"Error: The file '{file_name}' does not exist.\")\n",
        "except Exception as e:\n",
        "    print(f\"An unexpected error occurred: {e}\")\n"
      ],
      "metadata": {
        "id": "fsWV6oMmW1vX"
      },
      "execution_count": null,
      "outputs": []
    },
    {
      "cell_type": "code",
      "source": [
        "# e. Program to handle any exception\n",
        "try:\n",
        "    num1 = float(input(\"Enter the first number: \"))\n",
        "    num2 = float(input(\"Enter the second number: \"))\n",
        "    result = num1 / num2\n",
        "    print(\"Result:\", result)\n",
        "except Exception as e:\n",
        "    print(f\"An error occurred: {e}\")\n"
      ],
      "metadata": {
        "id": "Iwv9O2d0W7pb"
      },
      "execution_count": null,
      "outputs": []
    }
  ]
}