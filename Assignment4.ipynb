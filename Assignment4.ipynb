{
 "cells": [
  {
   "cell_type": "markdown",
   "id": "4c210a55-f9ac-4543-9016-e6cb4cc7a147",
   "metadata": {},
   "source": [
    "# Assignment 4"
   ]
  },
  {
   "cell_type": "markdown",
   "id": "8dbc348b-f4a0-41a1-a794-3e2996fee3a7",
   "metadata": {},
   "source": [
    "**Q1. What exactly is []?**\n",
    "\n",
    "The empty list represented by `[] `. It is a list that contains no items.This is used when we are definig a list where we will be appending values in the future."
   ]
  },
  {
   "cell_type": "markdown",
   "id": "95a23148-2f73-40af-972d-4a3dd5c7bad6",
   "metadata": {},
   "source": [
    "**Q2.\n",
    "In a list of values stored in a variable called spam, how would you assign the value 'hello' as the third value? (Assume [2, 4, 6, 8, 10] are in spam.)**\n",
    "\n",
    "\n",
    "To assign the value `\"hello\"` in the list variable **spam** , by calling the **second** index and then updating the value at the position as **hello**.<br>\n",
    "**Code** spam[2] = \"helllo\"<br>\n",
    "**Note:-** We have to use the index value as `2`, because python starts indexing from `zero`. "
   ]
  },
  {
   "cell_type": "markdown",
   "id": "a08cb289-f7b0-465a-b7e3-220f6099f055",
   "metadata": {},
   "source": [
    "## Pretending the spam includes the list ['a', 'b', 'c', 'd'] for the next three queries."
   ]
  },
  {
   "cell_type": "markdown",
   "id": "111269c3-5c5a-40d1-8882-41450fcb7989",
   "metadata": {},
   "source": [
    "**Q3.\n",
    "What is the value of spam[int(int('3' * 2) / 11)]?**\n",
    "\n",
    "The value of the above code will be `d`. At first the parantheses operation is executed where the **string** value `3` is multiplied with **integer** value `2`. So we get `33` and then convert it into **integer** then we divide the `33` by `11` which gives the value `3` and thus we get `spam[3]` as the output which stands as `d`."
   ]
  },
  {
   "cell_type": "markdown",
   "id": "4dac42f1-2950-4ba8-8fb4-3489b3b4c40b",
   "metadata": {},
   "source": [
    "**4. \n",
    "What is the value of spam[-1]?**\n",
    "\n",
    "The value of the above code is `d`. As `-1` indicates the last index so we get the last value of the list `spam` which is `d`. "
   ]
  },
  {
   "cell_type": "markdown",
   "id": "e9ee7654-9c5b-4713-bf81-4b22933ea6c3",
   "metadata": {},
   "source": [
    "**Q5. \n",
    "What is the value of spam[:2]?**\n",
    "\n",
    "The value of the code is `['a','b']` as the index tells to returns the value from the starting index excluding the end point of the index. So we get the value of index as `0` and `1`. Hence, the code returns the value of list till the second index."
   ]
  },
  {
   "cell_type": "markdown",
   "id": "092b09d8-2672-469c-92e3-625ec3dee234",
   "metadata": {},
   "source": [
    "## Pretending bacon has the list [3.14, 'cat,' 11, 'cat,' True] for the next three questions."
   ]
  },
  {
   "cell_type": "markdown",
   "id": "2e407e9f-e434-433b-aec8-f3c0ccb09fac",
   "metadata": {},
   "source": [
    "**Q6. \n",
    "What is the value of bacon.index('cat')?**\n",
    "\n",
    "This code returns the first index where the value of the list is `cat`. So we get the result as `1`."
   ]
  },
  {
   "cell_type": "markdown",
   "id": "e5eef8b5-02ca-4aaf-84b8-49abf4890dc0",
   "metadata": {},
   "source": [
    "**Q7. How does bacon.append(99) change the look of the list value in bacon?**\n",
    "\n",
    "The `append` method adds new elements to the **end** of the list. So the code bacon.append(99), will simply add `99` at the end of the list.\n",
    "which makes the list `[3.14, 'cat', 11, 'cat', True, 99]`"
   ]
  },
  {
   "cell_type": "markdown",
   "id": "340854ac-a3d2-4888-8893-9066d1c021bb",
   "metadata": {},
   "source": [
    "**Q8. \n",
    "How does bacon.remove('cat') change the look of the list in bacon**\n",
    "\n",
    "The `remove` method removes the **first** occurence of the element in the list. So the new list will containt all elements except the first occurance of `cat`. The list looks like `[3.14, 11, 'cat', True, 99]`."
   ]
  },
  {
   "cell_type": "markdown",
   "id": "649552e3-106a-4394-9e56-466b084debb0",
   "metadata": {},
   "source": [
    "**Q9. \n",
    "What are the list concatenation and list replication operators?**\n",
    " \n",
    "The operator for list `concatenation` is `+`, while the `operator` for replication is `*`. Using the **concatenation** operator we are able to add two lists one after another, and using the **multiplication** operator we repeat the whole occurances of the elements of the list as many times it is multiplied. \n"
   ]
  },
  {
   "cell_type": "markdown",
   "id": "493279fb-34f5-4e7d-8ca4-1a49d4f07f05",
   "metadata": {},
   "source": [
    "**Q10.\n",
    "What is difference between the list methods append() and insert()?**\n",
    "\n",
    "The `append()` method will be able to **add values** only to the end of a list,whereas the `insert()` methods can add them anywhere in the list, we just need to mention the **index** and the **value** we need to insert."
   ]
  },
  {
   "cell_type": "markdown",
   "id": "b6bd9608-97b6-480c-9203-dd605c90b9c1",
   "metadata": {},
   "source": [
    "**Q11.\n",
    "What are the two methods for removing items from a list?**\n",
    "\n",
    "The `del` statement and the `remove()` method are two ways to **remove** values from a list"
   ]
  },
  {
   "cell_type": "markdown",
   "id": "26d0205b-cc9a-452e-b747-d9ac890c2b8f",
   "metadata": {},
   "source": [
    "**Q12.\n",
    "Describe how list values and string values are identical.**\n",
    "\n",
    "`lists` and `strings` can be passed to **len()** function, have **indexes** and can be **sliced**, it can be used in **for loops**, can be **concatenated** or **replicated**, and be used within the **in** and **not in** operators."
   ]
  },
  {
   "cell_type": "markdown",
   "id": "a13a1ff2-62b0-435a-a114-8b4f98dca752",
   "metadata": {},
   "source": [
    "**Q13.\n",
    "What's the difference between tuples and lists?**\n",
    "\n",
    "Lists are `Mutable`, `Indexable` and `Slicable`. they can have values `added`, `removed`, or `updated`. Tuples are `Immutable` but `Indexable` and `Slicable`. the tuple values cannot be **updated** at all. Also, tuples are **represented** using `parentheses, ()`, on the other hand **lists** defined using the `square brackets, []`."
   ]
  },
  {
   "cell_type": "markdown",
   "id": "9230e068-459d-4159-b82f-51b1e82eaec1",
   "metadata": {},
   "source": [
    "**Q14\n",
    "Lists are Mutable, Indexable and Slicable. they can have values added, removed, or changed. Tuples are Immutable but Indexable and Slicable. the tuple values cannot be changed at all. Also, tuples are represented using parentheses, (), while lists use the square brackets, [].**\n",
    "\n",
    "We write tup = (42,). The trailing `comma` is mandatory. otherwise its considered as a `int` by python Interpreter."
   ]
  },
  {
   "cell_type": "markdown",
   "id": "a163d1a9-c5b2-4e5a-ab54-5dd3994048c9",
   "metadata": {},
   "source": [
    "**Q15. How do you get a list value's tuple form? How do you get a tuple value's list form?**\n",
    "\n",
    "We can simply use the `tuple()` and `list()` functions, **respectively** to convert a **list** to tuple and the reverse."
   ]
  },
  {
   "cell_type": "markdown",
   "id": "061f9045-29fe-4f9d-aa57-094ad78258eb",
   "metadata": {},
   "source": [
    "**Q16. Variables that \"contain\" list values are not necessarily lists themselves. Instead, what do they contain?**\n",
    "\n",
    "The variables contain the **reference** of the list values."
   ]
  },
  {
   "cell_type": "markdown",
   "id": "ee5299c8-2032-4e0f-85ed-1b4a6e405883",
   "metadata": {},
   "source": [
    "**Q17. How do you distinguish between copy.copy() and copy.deepcopy()?**\n",
    "\n",
    "\n",
    "The `copy.copy()` function will do a **shallow copy** of a list, while the `copy.deepcopy()` function will do a **deep copy** of a list. That is, only copy.deepcopy() duplicates any lists inside the list."
   ]
  }
 ],
 "metadata": {
  "kernelspec": {
   "display_name": "Python 3 (ipykernel)",
   "language": "python",
   "name": "python3"
  },
  "language_info": {
   "codemirror_mode": {
    "name": "ipython",
    "version": 3
   },
   "file_extension": ".py",
   "mimetype": "text/x-python",
   "name": "python",
   "nbconvert_exporter": "python",
   "pygments_lexer": "ipython3",
   "version": "3.10.6"
  }
 },
 "nbformat": 4,
 "nbformat_minor": 5
}
