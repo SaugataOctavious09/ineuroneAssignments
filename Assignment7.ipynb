{
 "cells": [
  {
   "cell_type": "markdown",
   "id": "48bced3c-f26f-4094-9208-cf0b3a21f49c",
   "metadata": {},
   "source": [
    "# Assignment 7"
   ]
  },
  {
   "cell_type": "markdown",
   "id": "b5978017-7fbf-4487-ac61-973696798f31",
   "metadata": {},
   "source": [
    "**Q.1. Create two int type variables, apply addition, subtraction, division and multiplications\n",
    "and store the results in variables. Then print the data in the following format by calling the\n",
    "variables:<pre>\n",
    "First variable is __ & second variable is __.\n",
    "Addition: __ + __ = __\n",
    "Subtraction: __ - __ = __\n",
    "Multiplication: __ * __ = __\n",
    "Division: __ / __ = __** </pre>\n",
    "\n",
    "The code solution is given to the chunk below:"
   ]
  },
  {
   "cell_type": "code",
   "execution_count": 1,
   "id": "58bd6e6c-0d5e-4e65-9970-a261e6ef9830",
   "metadata": {},
   "outputs": [
    {
     "name": "stdout",
     "output_type": "stream",
     "text": [
      "First variable is 2 & second vvariable is 7 \n",
      " Addition: 2+7 = 9\n",
      " Substraction: 2-7 = -5\n",
      " Multiplication: 2*7= 14\n",
      " Division: 2/7= 0.2857142857142857.\n"
     ]
    }
   ],
   "source": [
    "Var1 = 2\n",
    "Var2 = 7\n",
    "Addition = Var1+Var2\n",
    "Substraction = Var1-Var2\n",
    "Multiplication = Var1*Var2\n",
    "Division = Var1/Var2\n",
    "\n",
    "print(f'''First variable is {Var1} & second vvariable is {Var2} \\n Addition: {Var1}+{Var2} = {Addition}\\n Substraction: {Var1}-{Var2} = {Substraction}\n",
    " Multiplication: {Var1}*{Var2}= {Multiplication}\\n Division: {Var1}/{Var2}= {Division}.''')"
   ]
  },
  {
   "cell_type": "markdown",
   "id": "4f4b2567-ed96-4b8f-8d79-c48ce8de3398",
   "metadata": {},
   "source": [
    "<strong>Q.2. What is the difference between the following operators:<pre>\n",
    "(i) ‘/’ & ‘//’\n",
    "(ii) ‘**’ & ‘^’ \n",
    "</pre></strong>\n",
    "\n",
    "The individual functions are written below <pre>\n",
    "<strong>(i)</strong>\n",
    "'/' performs regular division and returns a floating-point result.\n",
    "'//' performs floor division and returns an integer result.\n",
    "<strong>(ii)</strong>\n",
    "'**' performs exponentiation.\n",
    "' ^ ' performs bitwise XOR operation, not exponentiation. </pre>\n"
   ]
  },
  {
   "cell_type": "markdown",
   "id": "9dc72148-24dd-4f4b-a9c6-ba40cb30a344",
   "metadata": {},
   "source": [
    "**Q.3. List the logical operators.**\n",
    "\n",
    "The logical operators are commonly used to create complex conditions and thus control the direction of the programme.<br>\n",
    "* `and`: The and operator returns `True` if both operands are `True`, otherwise, the return value is `False`.\n",
    "\n",
    "* `or`: The or operator returns `True` if at least **one** of the operands is `True`, otherwise the return value is `False`.\n",
    "\n",
    "* `not`: The not operator returns the **opposite** of the **operand's value**. If the operand is `True`, not returns `False`, and vice versa."
   ]
  },
  {
   "cell_type": "markdown",
   "id": "65b1b1ed-5495-425a-8ec4-9ad7615101b3",
   "metadata": {},
   "source": [
    "**Q.4. Explain right shift operator and left shift operator with examples**\n",
    "\n",
    "**Right Shift Operator (>>):**\n",
    "\n",
    "The right shift operator (>>) shifts the **bits** of a `binary` number to the **right** by the  number of positions specified. It effectively divides the number by 2 raised to the power of the shift amount. <br>\n",
    "Example: <pre>\n",
    "a = 10 = 0000 1010 (Binary value of 10)\n",
    "a >> 1 = 0000 0101 = 5 (One bit shift to the right) </pre>\n",
    "\n",
    "**Left Shift Operator (<<):**\n",
    "\n",
    "The left shift operator (<<) shifts the **bits** of a `binary` number to the **left** by a specified number of positions. It effectively multiplies the number by 2 raised to the power of the shift amount.<br>\n",
    "Example: <pre>\n",
    "a = 5 = 0000 0101 (Binary value of 5)\n",
    "a << 1 = 0000 1010 = 10 (One bit shift to the left)</pre>"
   ]
  },
  {
   "cell_type": "markdown",
   "id": "c82e9ffe-1e74-4460-86f4-16c1321cd8c9",
   "metadata": {},
   "source": [
    "**Q.5. Create a list containing int type data of length 15. Then write a code to check if 10 is\n",
    "present in the list or not.**\n",
    "\n",
    "The code is in the chunk below"
   ]
  },
  {
   "cell_type": "code",
   "execution_count": 2,
   "id": "b0e278df-b16b-4c5c-999f-15c03fada937",
   "metadata": {},
   "outputs": [
    {
     "name": "stdout",
     "output_type": "stream",
     "text": [
      "10 is found.\n"
     ]
    }
   ],
   "source": [
    "import numpy as np\n",
    "\n",
    "values = list(np.arange(0,15)) # Creates integers from 0-15\n",
    "\n",
    "if 10 in values: # Code to check if 10 is present or not.\n",
    "    print(\"10 is found.\")\n",
    "else:\n",
    "    print(\"10 is not found.\")"
   ]
  }
 ],
 "metadata": {
  "kernelspec": {
   "display_name": "Python 3 (ipykernel)",
   "language": "python",
   "name": "python3"
  },
  "language_info": {
   "codemirror_mode": {
    "name": "ipython",
    "version": 3
   },
   "file_extension": ".py",
   "mimetype": "text/x-python",
   "name": "python",
   "nbconvert_exporter": "python",
   "pygments_lexer": "ipython3",
   "version": "3.10.6"
  }
 },
 "nbformat": 4,
 "nbformat_minor": 5
}
