{
 "cells": [
  {
   "cell_type": "markdown",
   "id": "7257850d-5695-459e-a6d7-7da86d9bb206",
   "metadata": {},
   "source": [
    "# Assignment 5"
   ]
  },
  {
   "cell_type": "markdown",
   "id": "ea78e78a-a352-4888-8362-7f503eebfd4c",
   "metadata": {},
   "source": [
    "**Q1. What does an empty dictionary's code look like?**\n",
    "\n",
    "An empty `dictionary` is often represented by two empty curly brackets `{}`\n",
    "d = {}, this is done when we are defining a key pair value and the key and value are in the format `\"key\":\"value\"`. <br>The other format is d = dict(), here the format for defining key value is `key=value`."
   ]
  },
  {
   "cell_type": "markdown",
   "id": "66976a0a-f2f6-43ab-9bf5-bdaad2702c86",
   "metadata": {},
   "source": [
    "**Q2. What is the value of a dictionary value with the key 'foo' and the value 42?**\n",
    "\n",
    "The value of `{\"foo\":42}` is `42` which has the type `dict_values`."
   ]
  },
  {
   "cell_type": "markdown",
   "id": "00e05312-f7bf-41c2-9829-9dc90a2f2be1",
   "metadata": {},
   "source": [
    "**Q3. What is the most significant distinction between a dictionary and a list?**\n",
    "\n",
    "**Dictionaries** are represented by `{}`(curly braces) where as **lists** are represented by `[]`(square brackets).<br>\n",
    "The next most distinct classification is that dictionary items are **Unordered** , while the list are **ordered**."
   ]
  },
  {
   "cell_type": "markdown",
   "id": "d361f727-6349-46a1-a236-39c18b00c6e0",
   "metadata": {},
   "source": [
    "**Q4. What happens if you try to access spam['foo'] if spam is {'bar': 100}?**\n",
    "\n",
    "There is no key as `'foo'` in the dictionary `spam`,hence we  will get a keyError `KeyError: 'foo'`."
   ]
  },
  {
   "cell_type": "markdown",
   "id": "4a9b1d31-2972-478f-a097-9e4cbec0fa6b",
   "metadata": {},
   "source": [
    "**5. If a dictionary is stored in spam, what is the difference between the expressions 'cat' in spam and 'cat' in spam.keys()?**\n",
    "\n",
    "The command `spam['cat']` checks if there is a key named `'cat'` in the dictionary **spam** and returns the value of the key 'cat' stored in dictonary **spam** , whereas `'cat'` in spam.keys() checks if there exists a key 'cat' for one of the keys in spam.<br>\n",
    "**Note:-** There is actually no difference in them."
   ]
  },
  {
   "cell_type": "markdown",
   "id": "3ea84873-2d1f-4ec2-87af-ba8f404d9751",
   "metadata": {},
   "source": [
    "**Q6. If a dictionary is stored in spam, what is the difference between the expressions 'cat' in spam and 'cat' in spam.values()?**\n",
    "\n",
    "The command `spam['cat']` checks if there is a key named `'cat'` in the dictionary **spam** and returns the value of the key 'cat' stored in dictonary **spam**, whereas `'cat'` in `spam.values()` checks if there is a value `'cat'` for one of the keys in spam."
   ]
  },
  {
   "cell_type": "markdown",
   "id": "6a71303d-1f12-4dd5-ab90-9b49399baea5",
   "metadata": {},
   "source": [
    "**Q7. What is a shortcut for the following code?<br>\n",
    "if 'color' not in spam:<br>\n",
    "spam['color'] = 'black'**\n",
    "\n",
    "The easiest solution is to set a default value for `color` as `black`. The code for the same will be `spam.setdefault('color', 'black')`"
   ]
  },
  {
   "cell_type": "markdown",
   "id": "c91fa6a0-63c9-4818-9fb9-a81bdda59a1b",
   "metadata": {},
   "source": [
    "**Q8 How do you \"pretty print\" dictionary values using which module and function?**\n",
    "\n",
    "We can pretty print a dictionary by first importing `pprint` module and then calling the `print` function from the module.\n",
    "Thus the `code` will be `pprint.print(dict)`. "
   ]
  }
 ],
 "metadata": {
  "kernelspec": {
   "display_name": "Python 3 (ipykernel)",
   "language": "python",
   "name": "python3"
  },
  "language_info": {
   "codemirror_mode": {
    "name": "ipython",
    "version": 3
   },
   "file_extension": ".py",
   "mimetype": "text/x-python",
   "name": "python",
   "nbconvert_exporter": "python",
   "pygments_lexer": "ipython3",
   "version": "3.10.6"
  }
 },
 "nbformat": 4,
 "nbformat_minor": 5
}
