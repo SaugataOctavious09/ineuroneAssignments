{
 "cells": [
  {
   "cell_type": "markdown",
   "id": "be2b3412-eb4d-411c-be22-96c937998e23",
   "metadata": {},
   "source": [
    "# Assignment 9"
   ]
  },
  {
   "cell_type": "markdown",
   "id": "73630521-6f31-4285-abaa-0c1be6eb9313",
   "metadata": {},
   "source": [
    "**Q1 What is a lambda function in Python, and how does it differ from a regular function?**\n",
    "\n",
    "\n",
    "`Lambda` functions, also known as anonymous functions,creates small one-line functions without formally defining the function using the `def` keyword.\n",
    "|**Lambda Function**|**Regular Function**|\n",
    "|:-----|:-----|\n",
    "|There is no function name|There is a unique name|\n",
    "|Small one-line functions performing only simple tasks|Multiline line complex structure to perform Complex Tasks|\n",
    "|There is no return statement, The expression value is returned directly|Return statement is necessary to get the desired output|\n",
    "\n",
    "**Example** \n",
    "<pre>\n",
    "def sq(x):\n",
    "    return(x*x) # defining a regular function named sq which returns the square if the input number.\n",
    "\n",
    "sq_lambda = lambda x:x*x # A lambda function which returns the square of the input number.\n",
    "</pre>\n"
   ]
  },
  {
   "cell_type": "markdown",
   "id": "85ef6fe7-4575-43da-8ccd-b81d463ba8f6",
   "metadata": {},
   "source": [
    "**Q2 Can a lambda function in Python have multiple arguments? If yes, how can you define and use\n",
    "them?**\n",
    "\n",
    "**Yes** lambda function in Python can take multiple arguments. We first define the two variables after the `lambda` keyword and then define the variables seperating them by `comma(,)` and then the `:` mark for seperating the expressions operation and variables.<br>\n",
    "A lambda function with two arguments is defined in the next chunk."
   ]
  },
  {
   "cell_type": "code",
   "execution_count": 2,
   "id": "ee0d6aec-9b50-41e7-bc59-8b875aae5d7d",
   "metadata": {},
   "outputs": [
    {
     "data": {
      "text/plain": [
       "10.0"
      ]
     },
     "execution_count": 2,
     "metadata": {},
     "output_type": "execute_result"
    }
   ],
   "source": [
    "fnn = lambda x,y: x*y/2 # takes two input variables and performs two operations.\n",
    "fnn(4,5)"
   ]
  },
  {
   "cell_type": "markdown",
   "id": "0926ad76-5a44-4e9f-8d30-8de1fb3dd178",
   "metadata": {},
   "source": [
    "**Q4 What are the advantages and limitations of lambda functions compared to regular functions in\n",
    "Python?**\n",
    "\n",
    "**Advantage** of lambda function <br>\n",
    "* **Conciseness:** Lambda functions are generally more concise than regular functions. They are defined in a single line of code, which can makes our code more readable, when there are simple operations involved.<br>\n",
    "* **Readability:** It is suitable for defining small, one-off functions that are used in a specific context. They can make the code more readable by keeping the function definition close to its use.\n",
    "* **Functional Programming:** Lambda functions are often used in functional programming concepts like map, filter, and reduce, making code more expressive and functional.<br>\n",
    "\n",
    "**Disadvantage** <br>\n",
    "* **Limited Expressiveness:** Lambda functions are limited in their expressiveness. It is intended for simple operations and cannot contain statements or complex logic.\n",
    "* **Limited Documentation:** Since lambda functions lack a name, they don't have docstrings or meaningful names to describe their purpose, which can make the code less self-documenting.\n"
   ]
  },
  {
   "cell_type": "markdown",
   "id": "db8a1552-ca43-420f-ae1a-6d493f065f02",
   "metadata": {},
   "source": [
    "**Q5 Are lambda functions in Python able to access variables defined outside of their own scope?\n",
    "Explain with an example.**\n",
    "\n",
    "**Yes,** lambda functions in Python can access variables defined outside of their own scope. They can access variables from the surrounding scope, including global variables. <br>\n",
    "The below chunk defines the same."
   ]
  },
  {
   "cell_type": "code",
   "execution_count": 4,
   "id": "74514a70-4005-4e8f-a718-7c2535e5971d",
   "metadata": {},
   "outputs": [
    {
     "name": "stdout",
     "output_type": "stream",
     "text": [
      "27\n"
     ]
    }
   ],
   "source": [
    "global_var = 10 # Defining a variable outside lambda function\n",
    "\n",
    "lambda_function = lambda x: x + global_var # Defining the lambda function with input variable x and global variable outsid ethe scope\n",
    "\n",
    "result = lambda_function(17) # Result of the lambda function is stored in the variable result.\n",
    "\n",
    "# Print the result\n",
    "print(result) \n"
   ]
  },
  {
   "cell_type": "markdown",
   "id": "a6765f3c-fc4f-4065-9264-cd3bf39519fc",
   "metadata": {},
   "source": [
    "**Q6 Write a lambda function to calculate the square of a given number.**\n",
    "\n",
    "The below chunk defines the code"
   ]
  },
  {
   "cell_type": "code",
   "execution_count": 10,
   "id": "14e14d72-026e-478c-83dd-2300411d7e85",
   "metadata": {},
   "outputs": [
    {
     "name": "stdin",
     "output_type": "stream",
     "text": [
      "Enter your variable: 9\n"
     ]
    },
    {
     "name": "stdout",
     "output_type": "stream",
     "text": [
      "81\n"
     ]
    }
   ],
   "source": [
    "sq = lambda: int(input(\"Enter your variable:\"))**2 # takes a user defined input variable and squares the a\n",
    "print(sq())"
   ]
  },
  {
   "cell_type": "markdown",
   "id": "68e44968-aa82-40a9-9b20-960d44309534",
   "metadata": {},
   "source": [
    "**Q7 Create a lambda function to find the maximum value in a list of integers.**\n",
    "\n",
    "The below chunk of code has the function"
   ]
  },
  {
   "cell_type": "code",
   "execution_count": 11,
   "id": "02f61302-3e13-442b-a4de-c21063487086",
   "metadata": {},
   "outputs": [
    {
     "data": {
      "text/plain": [
       "4"
      ]
     },
     "execution_count": 11,
     "metadata": {},
     "output_type": "execute_result"
    }
   ],
   "source": [
    "maximum = lambda x: max(x) # Create a lambda function with x as argument and use the max() function to find maximum value\n",
    "x = [0,1,2,3,4] # Define a list of variables\n",
    "result = maximum(x) # Store the maximum value in the variable result\n",
    "result # Print the result."
   ]
  },
  {
   "cell_type": "markdown",
   "id": "73c69142-cd4f-471a-9880-0edb433ce637",
   "metadata": {},
   "source": [
    "**Q8 Implement a lambda function to filter out all the even numbers from a list of integers.**\n",
    "\n",
    "The below code chunk defines the same"
   ]
  },
  {
   "cell_type": "code",
   "execution_count": 12,
   "id": "7f72179c-14ea-41a9-be34-af165c5fb8ef",
   "metadata": {},
   "outputs": [
    {
     "name": "stdout",
     "output_type": "stream",
     "text": [
      "Even numbers: [12, 8, 34]\n"
     ]
    }
   ],
   "source": [
    "numbers = [12, 45, 23, 67, 8, 91, 34] # Create a list of integers\n",
    "\n",
    "even_numbers = list(filter(lambda x: x % 2 == 0, numbers)) # using the variable even numbers to store the labda function\n",
    "\n",
    "# Print the even numbers\n",
    "print(\"Even numbers:\", even_numbers)\n"
   ]
  },
  {
   "cell_type": "markdown",
   "id": "8fa08f71-9dfa-42ca-9bf5-3f5caf973e0d",
   "metadata": {},
   "source": [
    "**Q9 Write a lambda function to sort a list of strings in ascending order based on the length of each\n",
    "string.**\n",
    "\n",
    "The below chunk of code explains the same"
   ]
  },
  {
   "cell_type": "code",
   "execution_count": 16,
   "id": "5232f095-3d40-4e4a-a5c7-8933391956fc",
   "metadata": {},
   "outputs": [
    {
     "name": "stdout",
     "output_type": "stream",
     "text": [
      "Sorted strings by length (ascending): ['apple', 'Mango', 'banana', 'Litchi', 'Grapes']\n"
     ]
    }
   ],
   "source": [
    "strings = [\"Apple\", \"Banana\", \"Litchi\", \"Grapes\", \"Mango\"] # Create a list of strings\n",
    "\n",
    "# Use a lambda function with sorted to sort by string length by assigning the key values to it. \n",
    "sorted_strings = sorted(strings, key=lambda x: len(x))\n",
    "\n",
    "print(\"Sorted strings by length (ascending):\", sorted_strings) # Print the sorted strings\n"
   ]
  },
  {
   "cell_type": "markdown",
   "id": "46635b65-f874-454f-a732-c912bd37caf4",
   "metadata": {},
   "source": [
    "**Q10 Create a lambda function that takes two lists as input and returns a new list containing the\n",
    "common elements between the two lists.**\n",
    "\n",
    "The below chunck has the code"
   ]
  },
  {
   "cell_type": "code",
   "execution_count": 17,
   "id": "71f437b6-6379-4d1e-b6e2-0028932899d5",
   "metadata": {},
   "outputs": [
    {
     "name": "stdout",
     "output_type": "stream",
     "text": [
      "Common elements: [3, 4, 5]\n"
     ]
    }
   ],
   "source": [
    "list1 = [1, 2, 3, 4, 5] # Creating the two lists\n",
    "list2 = [3, 4, 5, 6, 7]\n",
    "\n",
    "# Use a lambda function to find common elements by using the and operator and changing the list to set to get unique values\n",
    "common_elements = lambda list1, list2: list(set(list1) & set(list2))\n",
    "\n",
    "# Call the lambda function with the two lists defined earlier and store the result in results\n",
    "result = common_elements(list1, list2)\n",
    "\n",
    "# Print the common elements\n",
    "print(\"Common elements:\", result)\n"
   ]
  },
  {
   "cell_type": "markdown",
   "id": "dab69d3f-e369-46cf-9bb0-db5db8cb6ca2",
   "metadata": {},
   "source": [
    "**Q11 Write a recursive function to calculate the factorial of a given positive integer**\n",
    "\n",
    "The below code edescribes the same."
   ]
  },
  {
   "cell_type": "code",
   "execution_count": 18,
   "id": "a31459ef-e08c-4a1f-8801-e1db79c73c70",
   "metadata": {},
   "outputs": [
    {
     "name": "stdout",
     "output_type": "stream",
     "text": [
      "The factorial of 5 is 120\n"
     ]
    }
   ],
   "source": [
    "def factorial(n):\n",
    "    if n == 0:  # factorial of 0 is 1 We save it first to avoid error and get default value 1\n",
    "        return 1\n",
    "    else: \n",
    "        return n * factorial(n - 1)     #  n! = n * (n-1)! So we recurssively call the data.\n",
    "\n",
    "# The factorial function\n",
    "n = 5\n",
    "result = factorial(n)\n",
    "print(f\"The factorial of {n} is {result}\")\n"
   ]
  },
  {
   "cell_type": "markdown",
   "id": "bdf5d36e-93eb-4bd6-872b-dfbee58f1d5b",
   "metadata": {},
   "source": [
    "**Q12 Implement a recursive function to compute the nth Fibonacci number.**\n",
    "\n",
    "The below code defines the function"
   ]
  },
  {
   "cell_type": "code",
   "execution_count": 20,
   "id": "5cc4661f-9dde-4411-9a69-26ce00d1a523",
   "metadata": {},
   "outputs": [
    {
     "name": "stdout",
     "output_type": "stream",
     "text": [
      "The 7-th Fibonacci number is 13\n"
     ]
    }
   ],
   "source": [
    "def fibonacci(n):\n",
    "    if n == 0: #Fibonacci of 0 is 0, and Fibonacci of 1 is 1\n",
    "        return 0\n",
    "    elif n == 1:\n",
    "        return 1   \n",
    "    else:\n",
    "        return fibonacci(n - 1) + fibonacci(n - 2) # Fibonacci(n) = Fibonacci(n-1) + Fibonacci(n-2) So recurssive call helps us to get the value\n",
    "\n",
    "# The Fibonacci function\n",
    "n = 7\n",
    "result = fibonacci(n)\n",
    "print(f\"The {n}-th Fibonacci number is {result}\")\n"
   ]
  },
  {
   "cell_type": "markdown",
   "id": "f4eb25f4-72e2-498d-af07-a3797abb16c2",
   "metadata": {},
   "source": [
    "**Q13. Create a recursive function to find the sum of all the elements in a given list.**\n",
    "\n",
    "The below code defines the same."
   ]
  },
  {
   "cell_type": "code",
   "execution_count": 21,
   "id": "6b8eb6e0-18d9-4bfd-9e50-d6ed69b852be",
   "metadata": {},
   "outputs": [
    {
     "name": "stdout",
     "output_type": "stream",
     "text": [
      "The sum of the list elements is: 15\n"
     ]
    }
   ],
   "source": [
    "def recursive_sum(lst):\n",
    "    # Base case: If the list is empty, the sum is 0\n",
    "    if len(lst) == 0:\n",
    "        return 0\n",
    "    # Sum the first element with the sum of the rest of the list\n",
    "    else:\n",
    "        return lst[0] + recursive_sum(lst[1:])\n",
    "\n",
    "# The recursive_sum function\n",
    "my_list = [1, 2, 3, 4, 5]\n",
    "result = recursive_sum(my_list)\n",
    "print(\"The sum of the list elements is:\", result)\n"
   ]
  },
  {
   "cell_type": "markdown",
   "id": "546b899a-27fa-49ef-8a81-02a451d9ff5f",
   "metadata": {},
   "source": [
    "**Q14. Write a recursive function to determine whether a given string is a palindrome.**\n",
    "\n",
    "The below code chunk has the code"
   ]
  },
  {
   "cell_type": "code",
   "execution_count": 23,
   "id": "d3cb9ab7-553a-4b60-bff6-8718c9c28551",
   "metadata": {},
   "outputs": [
    {
     "name": "stdout",
     "output_type": "stream",
     "text": [
      "'eye' is a palindrome: True\n",
      "'hello' is a palindrome: False\n"
     ]
    }
   ],
   "source": [
    "def is_palindrome(s):\n",
    "    # If the string has 0 or 1 character, it's a palindrome always.\n",
    "    if len(s) <= 1:\n",
    "        return True\n",
    "    #Check if the first and last characters are the same\n",
    "    elif s[0] == s[-1]:\n",
    "        # Recurse on the substring without the first and last characters\n",
    "        return is_palindrome(s[1:-1])\n",
    "    else:\n",
    "        return False\n",
    "\n",
    "# Uhe is_palindrome function\n",
    "string1 = \"eye\"\n",
    "string2 = \"hello\"\n",
    "\n",
    "result1 = is_palindrome(string1)\n",
    "result2 = is_palindrome(string2)\n",
    "\n",
    "print(f\"'{string1}' is a palindrome: {result1}\")\n",
    "print(f\"'{string2}' is a palindrome: {result2}\")\n"
   ]
  },
  {
   "cell_type": "markdown",
   "id": "965002d6-d165-4ce4-b7a5-3cadeacdc2ce",
   "metadata": {},
   "source": [
    "**Q15. Implement a recursive function to find the greatest common divisor (GCD) of two positive integers.**\n",
    "\n",
    "The below code chunk"
   ]
  },
  {
   "cell_type": "code",
   "execution_count": null,
   "id": "79b648f6-e96c-42e0-b37d-cb33de096955",
   "metadata": {},
   "outputs": [],
   "source": [
    "def gcd(a, b):\n",
    "    # If b is 0, the GCD is a\n",
    "    if b == 0:\n",
    "        return a\n",
    "    #Compute the GCD recursively using Euclidean algorithm\n",
    "    else:\n",
    "        return gcd(b, a % b)\n",
    "\n",
    "# Us the same\n",
    "num1 = 48\n",
    "num2 = 18\n",
    "\n",
    "result = gcd(num1, num2)\n",
    "print(f\"The GCD of {num1} and {num2} is {result}\")\n"
   ]
  }
 ],
 "metadata": {
  "kernelspec": {
   "display_name": "Python 3 (ipykernel)",
   "language": "python",
   "name": "python3"
  },
  "language_info": {
   "codemirror_mode": {
    "name": "ipython",
    "version": 3
   },
   "file_extension": ".py",
   "mimetype": "text/x-python",
   "name": "python",
   "nbconvert_exporter": "python",
   "pygments_lexer": "ipython3",
   "version": "3.10.6"
  }
 },
 "nbformat": 4,
 "nbformat_minor": 5
}
